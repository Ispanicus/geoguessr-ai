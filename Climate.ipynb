{
  "nbformat": 4,
  "nbformat_minor": 0,
  "metadata": {
    "colab": {
      "name": "Climate.ipynb",
      "provenance": [],
      "collapsed_sections": []
    },
    "kernelspec": {
      "name": "python3",
      "display_name": "Python 3"
    },
    "language_info": {
      "name": "python"
    }
  },
  "cells": [
    {
      "cell_type": "code",
      "execution_count": 2,
      "metadata": {
        "colab": {
          "base_uri": "https://localhost:8080/"
        },
        "id": "E6TYLd-SyPha",
        "outputId": "7182f6c1-f3ce-4200-f110-1f1f5059a42f"
      },
      "outputs": [
        {
          "output_type": "stream",
          "name": "stdout",
          "text": [
            "Requirement already satisfied: geopandas in /usr/local/lib/python3.7/dist-packages (0.10.2)\n",
            "Requirement already satisfied: pandas>=0.25.0 in /usr/local/lib/python3.7/dist-packages (from geopandas) (1.3.5)\n",
            "Requirement already satisfied: pyproj>=2.2.0 in /usr/local/lib/python3.7/dist-packages (from geopandas) (3.2.1)\n",
            "Requirement already satisfied: fiona>=1.8 in /usr/local/lib/python3.7/dist-packages (from geopandas) (1.8.21)\n",
            "Requirement already satisfied: shapely>=1.6 in /usr/local/lib/python3.7/dist-packages (from geopandas) (1.8.1.post1)\n",
            "Requirement already satisfied: cligj>=0.5 in /usr/local/lib/python3.7/dist-packages (from fiona>=1.8->geopandas) (0.7.2)\n",
            "Requirement already satisfied: attrs>=17 in /usr/local/lib/python3.7/dist-packages (from fiona>=1.8->geopandas) (21.4.0)\n",
            "Requirement already satisfied: click-plugins>=1.0 in /usr/local/lib/python3.7/dist-packages (from fiona>=1.8->geopandas) (1.1.1)\n",
            "Requirement already satisfied: certifi in /usr/local/lib/python3.7/dist-packages (from fiona>=1.8->geopandas) (2021.10.8)\n",
            "Requirement already satisfied: six>=1.7 in /usr/local/lib/python3.7/dist-packages (from fiona>=1.8->geopandas) (1.15.0)\n",
            "Requirement already satisfied: munch in /usr/local/lib/python3.7/dist-packages (from fiona>=1.8->geopandas) (2.5.0)\n",
            "Requirement already satisfied: setuptools in /usr/local/lib/python3.7/dist-packages (from fiona>=1.8->geopandas) (57.4.0)\n",
            "Requirement already satisfied: click>=4.0 in /usr/local/lib/python3.7/dist-packages (from fiona>=1.8->geopandas) (7.1.2)\n",
            "Requirement already satisfied: python-dateutil>=2.7.3 in /usr/local/lib/python3.7/dist-packages (from pandas>=0.25.0->geopandas) (2.8.2)\n",
            "Requirement already satisfied: numpy>=1.17.3 in /usr/local/lib/python3.7/dist-packages (from pandas>=0.25.0->geopandas) (1.21.5)\n",
            "Requirement already satisfied: pytz>=2017.3 in /usr/local/lib/python3.7/dist-packages (from pandas>=0.25.0->geopandas) (2018.9)\n",
            "Reading package lists... Done\n",
            "Building dependency tree       \n",
            "Reading state information... Done\n",
            "libspatialindex-dev is already the newest version (1.8.5-5).\n",
            "0 upgraded, 0 newly installed, 0 to remove and 39 not upgraded.\n",
            "Requirement already satisfied: rtree in /usr/local/lib/python3.7/dist-packages (0.9.7)\n",
            "Requirement already satisfied: pygeos in /usr/local/lib/python3.7/dist-packages (0.12.0)\n",
            "Requirement already satisfied: numpy>=1.13 in /usr/local/lib/python3.7/dist-packages (from pygeos) (1.21.5)\n"
          ]
        }
      ],
      "source": [
        "!pip install geopandas\n",
        "!apt install libspatialindex-dev\n",
        "!pip install rtree\n",
        "!pip install pygeos\n",
        "import geopandas as gpd\n",
        "import json\n",
        "import pandas as pd\n",
        "import rtree\n",
        "import pygeos"
      ]
    },
    {
      "cell_type": "code",
      "source": [
        "from google.colab import drive\n",
        "drive.mount('/content/drive')"
      ],
      "metadata": {
        "colab": {
          "base_uri": "https://localhost:8080/"
        },
        "id": "ox0CTI6-uf4j",
        "outputId": "3940c607-9ae2-472c-d4e6-3c19978bbed8"
      },
      "execution_count": 3,
      "outputs": [
        {
          "output_type": "stream",
          "name": "stdout",
          "text": [
            "Mounted at /content/drive\n"
          ]
        }
      ]
    },
    {
      "cell_type": "code",
      "source": [
        "shapefile = gpd.read_file(\"/content/other_climate_2007_koppen_geiger.shp\", encoding=\"utf-8\")\n",
        "\n",
        "with open('/content/drive/MyDrive/mapillary/train.json', encoding=\"UTF-8\") as f:\n",
        "  data = json.load(f)\n",
        "\n",
        "coords = pd.DataFrame.from_dict(data, orient=\"index\")\n",
        "coords = coords.drop(\"focal\", axis=1)\n",
        "coords = coords.drop(\"make\", axis=1)\n",
        "coords = coords.drop(\"model\", axis=1)\n",
        "coords = coords.rename(columns={\"lat\": \"Latitude\", \"lon\": \"Longitude\"})"
      ],
      "metadata": {
        "id": "dTjQ_fr05pcr"
      },
      "execution_count": 8,
      "outputs": []
    },
    {
      "cell_type": "code",
      "source": [
        "df = gpd.GeoDataFrame(\n",
        "    coords, geometry=gpd.points_from_xy(coords.Longitude, coords.Latitude))\n",
        "df = df.set_crs(shapefile.crs)\n",
        "newpd = gpd.sjoin_nearest(df, shapefile, distance_col='distances', max_distance=1)\n"
      ],
      "metadata": {
        "colab": {
          "base_uri": "https://localhost:8080/"
        },
        "id": "-4C-Sno_q0-y",
        "outputId": "8e6f5966-1dce-4b6d-c780-c85194ea43b9"
      },
      "execution_count": 20,
      "outputs": [
        {
          "output_type": "stream",
          "name": "stderr",
          "text": [
            "/usr/local/lib/python3.7/dist-packages/geopandas/array.py:348: UserWarning: Geometry is in a geographic CRS. Results from 'sjoin_nearest' are likely incorrect. Use 'GeoSeries.to_crs()' to re-project geometries to a projected CRS before this operation.\n",
            "\n",
            "  stacklevel=stacklevel,\n"
          ]
        }
      ]
    },
    {
      "cell_type": "code",
      "source": [
        "newpd.sort_values(by=['distances'],ascending=False,inplace=True)\n",
        "newpd"
      ],
      "metadata": {
        "colab": {
          "base_uri": "https://localhost:8080/",
          "height": 1000
        },
        "id": "o1TBS0t3wi1R",
        "outputId": "d2d2df09-5855-48ae-e989-0aa1ead55979"
      },
      "execution_count": 21,
      "outputs": [
        {
          "output_type": "execute_result",
          "data": {
            "text/plain": [
              "                         Latitude  Longitude                    geometry  \\\n",
              "yYjKcJlC1aneLqPeOdXEdQ -20.974643  55.656139  POINT (55.65614 -20.97464)   \n",
              "h7LxUZy4JwSXFRGnjJNqGg -20.974326  55.655995  POINT (55.65599 -20.97433)   \n",
              "rtYgCIXfKmvOmTt-JzyBiw -21.202010  55.574361  POINT (55.57436 -21.20201)   \n",
              "oAb0JYQF3m6ruZiJDIFFhw -21.202010  55.574361  POINT (55.57436 -21.20201)   \n",
              "nJ8JPlscDspfPoakyFuUTQ -21.201896  55.574356  POINT (55.57436 -21.20190)   \n",
              "...                           ...        ...                         ...   \n",
              "Y3GExP4py5SG3b2ExT9d-w  34.054464  -4.975065   POINT (-4.97507 34.05446)   \n",
              "Y-iAM8jOzXpFbNAy8oyWAQ  35.571125  -5.376278   POINT (-5.37628 35.57112)   \n",
              "ZLGepHO2WhsHKUcLf_XrzA  33.552514  -7.592440   POINT (-7.59244 33.55251)   \n",
              "X_2DUatguGHXy-_grCbSXg  34.036040  -5.022423   POINT (-5.02242 34.03604)   \n",
              "HKJjfpEKhTbK9QCMlaYinw  44.055843  43.066558   POINT (43.06656 44.05584)   \n",
              "\n",
              "                        index_right                              identity  \\\n",
              "yYjKcJlC1aneLqPeOdXEdQ         1723  2eca8613-09f6-d8b4-cf36-ffb0ad244257   \n",
              "h7LxUZy4JwSXFRGnjJNqGg         1723  2eca8613-09f6-d8b4-cf36-ffb0ad244257   \n",
              "rtYgCIXfKmvOmTt-JzyBiw         1723  2eca8613-09f6-d8b4-cf36-ffb0ad244257   \n",
              "oAb0JYQF3m6ruZiJDIFFhw         1723  2eca8613-09f6-d8b4-cf36-ffb0ad244257   \n",
              "nJ8JPlscDspfPoakyFuUTQ         1723  2eca8613-09f6-d8b4-cf36-ffb0ad244257   \n",
              "...                             ...                                   ...   \n",
              "Y3GExP4py5SG3b2ExT9d-w         3944  fa65bcb7-9e3e-bcc9-f69c-f0de974f4919   \n",
              "Y-iAM8jOzXpFbNAy8oyWAQ         3944  fa65bcb7-9e3e-bcc9-f69c-f0de974f4919   \n",
              "ZLGepHO2WhsHKUcLf_XrzA         3944  fa65bcb7-9e3e-bcc9-f69c-f0de974f4919   \n",
              "X_2DUatguGHXy-_grCbSXg         3944  fa65bcb7-9e3e-bcc9-f69c-f0de974f4919   \n",
              "HKJjfpEKhTbK9QCMlaYinw         1638  bbf82903-86c9-1599-23b5-5f925982e18e   \n",
              "\n",
              "                                                         climate  distances  \n",
              "yYjKcJlC1aneLqPeOdXEdQ                    Af Tropical-Rainforest   6.751366  \n",
              "h7LxUZy4JwSXFRGnjJNqGg                    Af Tropical-Rainforest   6.751136  \n",
              "rtYgCIXfKmvOmTt-JzyBiw                    Af Tropical-Rainforest   6.743985  \n",
              "oAb0JYQF3m6ruZiJDIFFhw                    Af Tropical-Rainforest   6.743985  \n",
              "nJ8JPlscDspfPoakyFuUTQ                    Af Tropical-Rainforest   6.743942  \n",
              "...                                                          ...        ...  \n",
              "Y3GExP4py5SG3b2ExT9d-w       Csa Temperate-Dry_Summer-Hot_Summer   0.000000  \n",
              "Y-iAM8jOzXpFbNAy8oyWAQ       Csa Temperate-Dry_Summer-Hot_Summer   0.000000  \n",
              "ZLGepHO2WhsHKUcLf_XrzA       Csa Temperate-Dry_Summer-Hot_Summer   0.000000  \n",
              "X_2DUatguGHXy-_grCbSXg       Csa Temperate-Dry_Summer-Hot_Summer   0.000000  \n",
              "HKJjfpEKhTbK9QCMlaYinw  Dfb Cold-Withouth_dry_season-Warm_Summer   0.000000  \n",
              "\n",
              "[742071 rows x 7 columns]"
            ],
            "text/html": [
              "\n",
              "  <div id=\"df-68a61d03-e58f-40cc-acd7-ffa85bb4ac3a\">\n",
              "    <div class=\"colab-df-container\">\n",
              "      <div>\n",
              "<style scoped>\n",
              "    .dataframe tbody tr th:only-of-type {\n",
              "        vertical-align: middle;\n",
              "    }\n",
              "\n",
              "    .dataframe tbody tr th {\n",
              "        vertical-align: top;\n",
              "    }\n",
              "\n",
              "    .dataframe thead th {\n",
              "        text-align: right;\n",
              "    }\n",
              "</style>\n",
              "<table border=\"1\" class=\"dataframe\">\n",
              "  <thead>\n",
              "    <tr style=\"text-align: right;\">\n",
              "      <th></th>\n",
              "      <th>Latitude</th>\n",
              "      <th>Longitude</th>\n",
              "      <th>geometry</th>\n",
              "      <th>index_right</th>\n",
              "      <th>identity</th>\n",
              "      <th>climate</th>\n",
              "      <th>distances</th>\n",
              "    </tr>\n",
              "  </thead>\n",
              "  <tbody>\n",
              "    <tr>\n",
              "      <th>yYjKcJlC1aneLqPeOdXEdQ</th>\n",
              "      <td>-20.974643</td>\n",
              "      <td>55.656139</td>\n",
              "      <td>POINT (55.65614 -20.97464)</td>\n",
              "      <td>1723</td>\n",
              "      <td>2eca8613-09f6-d8b4-cf36-ffb0ad244257</td>\n",
              "      <td>Af Tropical-Rainforest</td>\n",
              "      <td>6.751366</td>\n",
              "    </tr>\n",
              "    <tr>\n",
              "      <th>h7LxUZy4JwSXFRGnjJNqGg</th>\n",
              "      <td>-20.974326</td>\n",
              "      <td>55.655995</td>\n",
              "      <td>POINT (55.65599 -20.97433)</td>\n",
              "      <td>1723</td>\n",
              "      <td>2eca8613-09f6-d8b4-cf36-ffb0ad244257</td>\n",
              "      <td>Af Tropical-Rainforest</td>\n",
              "      <td>6.751136</td>\n",
              "    </tr>\n",
              "    <tr>\n",
              "      <th>rtYgCIXfKmvOmTt-JzyBiw</th>\n",
              "      <td>-21.202010</td>\n",
              "      <td>55.574361</td>\n",
              "      <td>POINT (55.57436 -21.20201)</td>\n",
              "      <td>1723</td>\n",
              "      <td>2eca8613-09f6-d8b4-cf36-ffb0ad244257</td>\n",
              "      <td>Af Tropical-Rainforest</td>\n",
              "      <td>6.743985</td>\n",
              "    </tr>\n",
              "    <tr>\n",
              "      <th>oAb0JYQF3m6ruZiJDIFFhw</th>\n",
              "      <td>-21.202010</td>\n",
              "      <td>55.574361</td>\n",
              "      <td>POINT (55.57436 -21.20201)</td>\n",
              "      <td>1723</td>\n",
              "      <td>2eca8613-09f6-d8b4-cf36-ffb0ad244257</td>\n",
              "      <td>Af Tropical-Rainforest</td>\n",
              "      <td>6.743985</td>\n",
              "    </tr>\n",
              "    <tr>\n",
              "      <th>nJ8JPlscDspfPoakyFuUTQ</th>\n",
              "      <td>-21.201896</td>\n",
              "      <td>55.574356</td>\n",
              "      <td>POINT (55.57436 -21.20190)</td>\n",
              "      <td>1723</td>\n",
              "      <td>2eca8613-09f6-d8b4-cf36-ffb0ad244257</td>\n",
              "      <td>Af Tropical-Rainforest</td>\n",
              "      <td>6.743942</td>\n",
              "    </tr>\n",
              "    <tr>\n",
              "      <th>...</th>\n",
              "      <td>...</td>\n",
              "      <td>...</td>\n",
              "      <td>...</td>\n",
              "      <td>...</td>\n",
              "      <td>...</td>\n",
              "      <td>...</td>\n",
              "      <td>...</td>\n",
              "    </tr>\n",
              "    <tr>\n",
              "      <th>Y3GExP4py5SG3b2ExT9d-w</th>\n",
              "      <td>34.054464</td>\n",
              "      <td>-4.975065</td>\n",
              "      <td>POINT (-4.97507 34.05446)</td>\n",
              "      <td>3944</td>\n",
              "      <td>fa65bcb7-9e3e-bcc9-f69c-f0de974f4919</td>\n",
              "      <td>Csa Temperate-Dry_Summer-Hot_Summer</td>\n",
              "      <td>0.000000</td>\n",
              "    </tr>\n",
              "    <tr>\n",
              "      <th>Y-iAM8jOzXpFbNAy8oyWAQ</th>\n",
              "      <td>35.571125</td>\n",
              "      <td>-5.376278</td>\n",
              "      <td>POINT (-5.37628 35.57112)</td>\n",
              "      <td>3944</td>\n",
              "      <td>fa65bcb7-9e3e-bcc9-f69c-f0de974f4919</td>\n",
              "      <td>Csa Temperate-Dry_Summer-Hot_Summer</td>\n",
              "      <td>0.000000</td>\n",
              "    </tr>\n",
              "    <tr>\n",
              "      <th>ZLGepHO2WhsHKUcLf_XrzA</th>\n",
              "      <td>33.552514</td>\n",
              "      <td>-7.592440</td>\n",
              "      <td>POINT (-7.59244 33.55251)</td>\n",
              "      <td>3944</td>\n",
              "      <td>fa65bcb7-9e3e-bcc9-f69c-f0de974f4919</td>\n",
              "      <td>Csa Temperate-Dry_Summer-Hot_Summer</td>\n",
              "      <td>0.000000</td>\n",
              "    </tr>\n",
              "    <tr>\n",
              "      <th>X_2DUatguGHXy-_grCbSXg</th>\n",
              "      <td>34.036040</td>\n",
              "      <td>-5.022423</td>\n",
              "      <td>POINT (-5.02242 34.03604)</td>\n",
              "      <td>3944</td>\n",
              "      <td>fa65bcb7-9e3e-bcc9-f69c-f0de974f4919</td>\n",
              "      <td>Csa Temperate-Dry_Summer-Hot_Summer</td>\n",
              "      <td>0.000000</td>\n",
              "    </tr>\n",
              "    <tr>\n",
              "      <th>HKJjfpEKhTbK9QCMlaYinw</th>\n",
              "      <td>44.055843</td>\n",
              "      <td>43.066558</td>\n",
              "      <td>POINT (43.06656 44.05584)</td>\n",
              "      <td>1638</td>\n",
              "      <td>bbf82903-86c9-1599-23b5-5f925982e18e</td>\n",
              "      <td>Dfb Cold-Withouth_dry_season-Warm_Summer</td>\n",
              "      <td>0.000000</td>\n",
              "    </tr>\n",
              "  </tbody>\n",
              "</table>\n",
              "<p>742071 rows × 7 columns</p>\n",
              "</div>\n",
              "      <button class=\"colab-df-convert\" onclick=\"convertToInteractive('df-68a61d03-e58f-40cc-acd7-ffa85bb4ac3a')\"\n",
              "              title=\"Convert this dataframe to an interactive table.\"\n",
              "              style=\"display:none;\">\n",
              "        \n",
              "  <svg xmlns=\"http://www.w3.org/2000/svg\" height=\"24px\"viewBox=\"0 0 24 24\"\n",
              "       width=\"24px\">\n",
              "    <path d=\"M0 0h24v24H0V0z\" fill=\"none\"/>\n",
              "    <path d=\"M18.56 5.44l.94 2.06.94-2.06 2.06-.94-2.06-.94-.94-2.06-.94 2.06-2.06.94zm-11 1L8.5 8.5l.94-2.06 2.06-.94-2.06-.94L8.5 2.5l-.94 2.06-2.06.94zm10 10l.94 2.06.94-2.06 2.06-.94-2.06-.94-.94-2.06-.94 2.06-2.06.94z\"/><path d=\"M17.41 7.96l-1.37-1.37c-.4-.4-.92-.59-1.43-.59-.52 0-1.04.2-1.43.59L10.3 9.45l-7.72 7.72c-.78.78-.78 2.05 0 2.83L4 21.41c.39.39.9.59 1.41.59.51 0 1.02-.2 1.41-.59l7.78-7.78 2.81-2.81c.8-.78.8-2.07 0-2.86zM5.41 20L4 18.59l7.72-7.72 1.47 1.35L5.41 20z\"/>\n",
              "  </svg>\n",
              "      </button>\n",
              "      \n",
              "  <style>\n",
              "    .colab-df-container {\n",
              "      display:flex;\n",
              "      flex-wrap:wrap;\n",
              "      gap: 12px;\n",
              "    }\n",
              "\n",
              "    .colab-df-convert {\n",
              "      background-color: #E8F0FE;\n",
              "      border: none;\n",
              "      border-radius: 50%;\n",
              "      cursor: pointer;\n",
              "      display: none;\n",
              "      fill: #1967D2;\n",
              "      height: 32px;\n",
              "      padding: 0 0 0 0;\n",
              "      width: 32px;\n",
              "    }\n",
              "\n",
              "    .colab-df-convert:hover {\n",
              "      background-color: #E2EBFA;\n",
              "      box-shadow: 0px 1px 2px rgba(60, 64, 67, 0.3), 0px 1px 3px 1px rgba(60, 64, 67, 0.15);\n",
              "      fill: #174EA6;\n",
              "    }\n",
              "\n",
              "    [theme=dark] .colab-df-convert {\n",
              "      background-color: #3B4455;\n",
              "      fill: #D2E3FC;\n",
              "    }\n",
              "\n",
              "    [theme=dark] .colab-df-convert:hover {\n",
              "      background-color: #434B5C;\n",
              "      box-shadow: 0px 1px 3px 1px rgba(0, 0, 0, 0.15);\n",
              "      filter: drop-shadow(0px 1px 2px rgba(0, 0, 0, 0.3));\n",
              "      fill: #FFFFFF;\n",
              "    }\n",
              "  </style>\n",
              "\n",
              "      <script>\n",
              "        const buttonEl =\n",
              "          document.querySelector('#df-68a61d03-e58f-40cc-acd7-ffa85bb4ac3a button.colab-df-convert');\n",
              "        buttonEl.style.display =\n",
              "          google.colab.kernel.accessAllowed ? 'block' : 'none';\n",
              "\n",
              "        async function convertToInteractive(key) {\n",
              "          const element = document.querySelector('#df-68a61d03-e58f-40cc-acd7-ffa85bb4ac3a');\n",
              "          const dataTable =\n",
              "            await google.colab.kernel.invokeFunction('convertToInteractive',\n",
              "                                                     [key], {});\n",
              "          if (!dataTable) return;\n",
              "\n",
              "          const docLinkHtml = 'Like what you see? Visit the ' +\n",
              "            '<a target=\"_blank\" href=https://colab.research.google.com/notebooks/data_table.ipynb>data table notebook</a>'\n",
              "            + ' to learn more about interactive tables.';\n",
              "          element.innerHTML = '';\n",
              "          dataTable['output_type'] = 'display_data';\n",
              "          await google.colab.output.renderOutput(dataTable, element);\n",
              "          const docLink = document.createElement('div');\n",
              "          docLink.innerHTML = docLinkHtml;\n",
              "          element.appendChild(docLink);\n",
              "        }\n",
              "      </script>\n",
              "    </div>\n",
              "  </div>\n",
              "  "
            ]
          },
          "metadata": {},
          "execution_count": 21
        }
      ]
    },
    {
      "cell_type": "code",
      "source": [
        "newpd['climate'].value_counts()"
      ],
      "metadata": {
        "colab": {
          "base_uri": "https://localhost:8080/"
        },
        "id": "1JvUUzkcwSR7",
        "outputId": "e8dc99ad-1ebe-4013-dc5a-1ce2d3e67285"
      },
      "execution_count": 11,
      "outputs": [
        {
          "output_type": "execute_result",
          "data": {
            "text/plain": [
              "Cfb Temperate-Withouth_dry_season-Warm_Summer    130063\n",
              "Cfa Temperate-Withouth_dry_season-Hot_Summer     108767\n",
              "Dfb Cold-Withouth_dry_season-Warm_Summer          92807\n",
              "Aw Tropical-Savanna                               50732\n",
              "Csa Temperate-Dry_Summer-Hot_Summer               47288\n",
              "BSk Arid-Steppe-Cold                              41605\n",
              "Csb Temperate-Dry_Summer-Warm_Summer              34641\n",
              "BWh Arid-Desert-Hot                               29194\n",
              "Dfa Cold-Withouth_dry_season-Hot_Summer           29067\n",
              "BSh Arid-Steppe-Hot                               18333\n",
              "Am Tropical-Monsoon                               15057\n",
              "Af Tropical-Rainforest                            13246\n",
              "Cwa Temperate-Dry_Winter-Hot_Summer               10308\n",
              "BWk Arid-Desert-Cold                               9852\n",
              "Cwb Temperate-Dry_Winter-Warm_Summer               9573\n",
              "Dfc Cold-Withouth_dry_season-Cold_Summer           7655\n",
              "Dsb Cold-Dry_Summer-Warm_Summer                    3895\n",
              "Cwc Temperate-Dry_Winter-Cold_Summer               3418\n",
              "ET Polar-Tundra                                    3058\n",
              "Dwc Cold-Dry_Winter-Cold_Summer                     598\n",
              "Dsa Cold-Dry_Summer-Hot_Summer                      422\n",
              "Dwb Cold-Dry_Winter-Warm_Summer                     334\n",
              "Dwa Cold-Dry_Winter-Hot_Summer                      329\n",
              "EF Polar-Frost                                       40\n",
              "Dwd Cold-Dry_Winter-Very_Cold_Winter                 39\n",
              "Dfa Cold-Withouth_dry_season-Very_Cold_Winter        30\n",
              "Dsc Cold-Dry_Summer-Cold_Summer                      12\n",
              "Name: climate, dtype: int64"
            ]
          },
          "metadata": {},
          "execution_count": 11
        }
      ]
    },
    {
      "cell_type": "code",
      "source": [
        "newpd.to_csv('climates.csv')"
      ],
      "metadata": {
        "id": "x9mNLSMGvHur"
      },
      "execution_count": 19,
      "outputs": []
    }
  ]
}