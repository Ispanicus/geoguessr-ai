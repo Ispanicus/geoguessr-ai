{
 "cells": [
  {
   "cell_type": "code",
   "execution_count": 3,
   "id": "ccb95a2e-0bb7-4a32-af11-2c0df80d1d6d",
   "metadata": {},
   "outputs": [],
   "source": [
    "import os\n",
    "import pickle\n",
    "from tqdm import tqdm\n",
    "from collections import Counter\n",
    "# import countries as co\n",
    "import json\n",
    "# import geopy\n",
    "# from geopy.geocoders import GeoNames\n"
   ]
  },
  {
   "cell_type": "code",
   "execution_count": 65,
   "id": "f97d9727-4079-4b82-8dc2-bb74eb3ffc7e",
   "metadata": {},
   "outputs": [],
   "source": [
    "# geolocator = Nominatim(user_agent=\"geoapiExercises\")\n",
    "# # Latitude = \"25.594095\"\n",
    "# # Longitude = \"85.137566\"\n",
    "# location = geolocator.reverse((29.599042, 34.864505), language='en')\n",
    "# address = location.raw['address']\n",
    "# country = address.get('country', '')"
   ]
  },
  {
   "cell_type": "code",
   "execution_count": null,
   "id": "483b1096-d7c3-49bf-a0c8-9b31b29ab4ba",
   "metadata": {},
   "outputs": [],
   "source": [
    "# To be used later\n",
    "# train = \"train\"\n",
    "# ignore = \"uncompressed\"\n",
    "# dir_ = \"F:\\\\Mapillary\"\n",
    "# for folder in os.listdir(dir_):\n",
    "#     if folder ==ignore:\n",
    "#         continue\n",
    "#     for file in os.listdir(dir_+\"\\\\\"+folder+\"\\\\\"+train):\n",
    "#         if file[-4:] == \".jpg\":\n",
    "#             file = file[:22]\n",
    "#         break\n",
    "            \n",
    "# #     print(file)"
   ]
  },
  {
   "cell_type": "code",
   "execution_count": null,
   "id": "96a69f30-7107-4d47-a9e2-66b53b953bc4",
   "metadata": {},
   "outputs": [],
   "source": [
    "with open(\"country_guess_final.pickle\", 'rb') as handle:\n",
    "    country_guess = pickle.load(handle)     \n",
    "    \n",
    "with open(\"metadata_w_google.pickle\", 'rb') as handle:\n",
    "    google_metadata = pickle.load(handle) \n",
    "    \n",
    "with open(\"../mapillary/train.json\") as file:\n",
    "    metadata = json.load(file)"
   ]
  },
  {
   "cell_type": "code",
   "execution_count": 4,
   "id": "bd730fa0-637a-4337-afe6-f84115dca73a",
   "metadata": {},
   "outputs": [
    {
     "ename": "NameError",
     "evalue": "name 'google_metadata' is not defined",
     "output_type": "error",
     "traceback": [
      "\u001b[1;31m---------------------------------------------------------------------------\u001b[0m",
      "\u001b[1;31mNameError\u001b[0m                                 Traceback (most recent call last)",
      "\u001b[1;32m~\\AppData\\Local\\Temp/ipykernel_13764/1059658845.py\u001b[0m in \u001b[0;36m<module>\u001b[1;34m\u001b[0m\n\u001b[0;32m      1\u001b[0m \u001b[0mgoogle_country_filelist_dict\u001b[0m \u001b[1;33m=\u001b[0m \u001b[1;33m{\u001b[0m\u001b[1;33m}\u001b[0m\u001b[1;33m\u001b[0m\u001b[1;33m\u001b[0m\u001b[0m\n\u001b[1;32m----> 2\u001b[1;33m \u001b[1;32mfor\u001b[0m \u001b[0mkey\u001b[0m \u001b[1;32min\u001b[0m \u001b[0mtqdm\u001b[0m\u001b[1;33m(\u001b[0m\u001b[0mgoogle_metadata\u001b[0m\u001b[1;33m.\u001b[0m\u001b[0mkeys\u001b[0m\u001b[1;33m(\u001b[0m\u001b[1;33m)\u001b[0m\u001b[1;33m)\u001b[0m\u001b[1;33m:\u001b[0m\u001b[1;33m\u001b[0m\u001b[1;33m\u001b[0m\u001b[0m\n\u001b[0m\u001b[0;32m      3\u001b[0m     \u001b[1;32mfor\u001b[0m \u001b[0mi\u001b[0m \u001b[1;32min\u001b[0m \u001b[0mrange\u001b[0m\u001b[1;33m(\u001b[0m\u001b[0mlen\u001b[0m\u001b[1;33m(\u001b[0m\u001b[0mgoogle_metadata\u001b[0m\u001b[1;33m[\u001b[0m\u001b[0mkey\u001b[0m\u001b[1;33m]\u001b[0m\u001b[1;33m[\u001b[0m\u001b[1;34m\"results\"\u001b[0m\u001b[1;33m]\u001b[0m\u001b[1;33m)\u001b[0m\u001b[1;33m)\u001b[0m\u001b[1;33m:\u001b[0m\u001b[1;33m\u001b[0m\u001b[1;33m\u001b[0m\u001b[0m\n\u001b[0;32m      4\u001b[0m         \u001b[1;32mif\u001b[0m \u001b[1;34m\"country\"\u001b[0m \u001b[1;32min\u001b[0m \u001b[0mgoogle_metadata\u001b[0m\u001b[1;33m[\u001b[0m\u001b[0mkey\u001b[0m\u001b[1;33m]\u001b[0m\u001b[1;33m[\u001b[0m\u001b[1;34m\"results\"\u001b[0m\u001b[1;33m]\u001b[0m\u001b[1;33m[\u001b[0m\u001b[0mi\u001b[0m\u001b[1;33m]\u001b[0m\u001b[1;33m[\u001b[0m\u001b[1;34m\"types\"\u001b[0m\u001b[1;33m]\u001b[0m\u001b[1;33m:\u001b[0m\u001b[1;33m\u001b[0m\u001b[1;33m\u001b[0m\u001b[0m\n\u001b[0;32m      5\u001b[0m             \u001b[0mcountry\u001b[0m \u001b[1;33m=\u001b[0m \u001b[0mgoogle_metadata\u001b[0m\u001b[1;33m[\u001b[0m\u001b[0mkey\u001b[0m\u001b[1;33m]\u001b[0m\u001b[1;33m[\u001b[0m\u001b[1;34m\"results\"\u001b[0m\u001b[1;33m]\u001b[0m\u001b[1;33m[\u001b[0m\u001b[0mi\u001b[0m\u001b[1;33m]\u001b[0m\u001b[1;33m[\u001b[0m\u001b[1;34m\"address_components\"\u001b[0m\u001b[1;33m]\u001b[0m\u001b[1;33m[\u001b[0m\u001b[1;36m0\u001b[0m\u001b[1;33m]\u001b[0m\u001b[1;33m[\u001b[0m\u001b[1;34m\"long_name\"\u001b[0m\u001b[1;33m]\u001b[0m\u001b[1;33m\u001b[0m\u001b[1;33m\u001b[0m\u001b[0m\n",
      "\u001b[1;31mNameError\u001b[0m: name 'google_metadata' is not defined"
     ]
    }
   ],
   "source": [
    "google_country_filelist_dict = {}\n",
    "for key in tqdm(google_metadata.keys()):\n",
    "    for i in range(len(google_metadata[key][\"results\"])):\n",
    "        if \"country\" in google_metadata[key][\"results\"][i][\"types\"]:\n",
    "            country = google_metadata[key][\"results\"][i][\"address_components\"][0][\"long_name\"]\n",
    "            google_country_filelist_dict.setdefault(country,[])\n",
    "            google_country_filelist_dict[country].append(key)\n",
    "nongoogle_country_filelist_dict = {}\n",
    "for key in tqdm(country_guess.keys()):\n",
    "    country = country_guess[key]\n",
    "    nongoogle_country_filelist_dict.setdefault(country,[])\n",
    "    nongoogle_country_filelist_dict[country].append(key)\n",
    "            "
   ]
  },
  {
   "cell_type": "code",
   "execution_count": 8,
   "id": "5789b37f-cb79-4148-936d-792bb8f3ec27",
   "metadata": {},
   "outputs": [
    {
     "data": {
      "text/plain": [
       "['DO4MMtujBlW5HpmqCJk-GQ']"
      ]
     },
     "execution_count": 8,
     "metadata": {},
     "output_type": "execute_result"
    }
   ],
   "source": [
    "google_country_filelist_dict[\"Andorra\"]\n"
   ]
  },
  {
   "cell_type": "code",
   "execution_count": 13,
   "id": "c8018cfd-8eec-4b07-b037-0c9608f8227e",
   "metadata": {},
   "outputs": [
    {
     "data": {
      "text/plain": [
       "5898"
      ]
     },
     "execution_count": 13,
     "metadata": {},
     "output_type": "execute_result"
    }
   ],
   "source": [
    "len(nongoogle_country_filelist_dict[\"Andorra\"])"
   ]
  },
  {
   "cell_type": "code",
   "execution_count": null,
   "id": "4fd17746-f65e-4917-bfcb-50cecfd38681",
   "metadata": {},
   "outputs": [],
   "source": [
    "countryguess(35000/750000) = google"
   ]
  },
  {
   "cell_type": "code",
   "execution_count": 29,
   "id": "1aa28aed-380b-48dc-a5c1-78c93e4329ae",
   "metadata": {},
   "outputs": [
    {
     "name": "stderr",
     "output_type": "stream",
     "text": [
      "100%|████████████████████████████████████████████████████████████████████████| 35341/35341 [00:00<00:00, 156928.00it/s]\n"
     ]
    }
   ],
   "source": [
    "google_counts = {}\n",
    "for key in tqdm(google_metadata.keys()):\n",
    "    for i in range(len(google_metadata[key][\"results\"])):\n",
    "        if \"country\" in google_metadata[key][\"results\"][i][\"types\"]:\n",
    "            country = google_metadata[key][\"results\"][i][\"address_components\"][0][\"long_name\"]\n",
    "            google_counts.setdefault(country,0)\n",
    "            google_counts[country] += 1\n",
    "\n",
    "google_counts_dict = google_counts.copy()\n",
    "google_counts = [(key,value) for key,value in google_counts.items()]\n",
    "google_counts.sort(key= lambda x: x[1])\n",
    "            \n",
    "nongoogle_counts = Counter([value for key,value in country_guess.items()])\n",
    "nongoogle_counts = [(key,value) for key,value in nongoogle_counts.items()]\n",
    "nongoogle_counts.sort(key= lambda x: x[1])"
   ]
  },
  {
   "cell_type": "code",
   "execution_count": 33,
   "id": "464d7b9a-9a9d-403b-b431-4921eb622dd0",
   "metadata": {},
   "outputs": [],
   "source": [
    "ratios = [(key,(value*(35/750)/google_counts_dict[key])) for key, value in nongoogle_counts]"
   ]
  },
  {
   "cell_type": "code",
   "execution_count": 35,
   "id": "608b052b-9afa-4cdc-9d0d-6e1956c58629",
   "metadata": {},
   "outputs": [],
   "source": [
    "ratios.sort(key= lambda x:x[1])"
   ]
  },
  {
   "cell_type": "code",
   "execution_count": 36,
   "id": "f2715a2e-9800-49cb-8bb6-bff6ab1a5bfc",
   "metadata": {},
   "outputs": [
    {
     "data": {
      "text/plain": [
       "[('Democratic Republic of the Congo', 0.00875),\n",
       " ('Niger', 0.023333333333333334),\n",
       " ('Iraq', 0.07933333333333334),\n",
       " ('Dominican Republic', 0.16333333333333333),\n",
       " ('France', 0.18221989528795812),\n",
       " ('India', 0.19402298850574715),\n",
       " ('Germany', 0.2792095357590966),\n",
       " ('Argentina', 0.3278355812459859),\n",
       " ('Italy', 0.3560850531582239),\n",
       " ('Sint Maarten', 0.37333333333333335),\n",
       " ('Sweden', 0.44527528809218947),\n",
       " ('Poland', 0.4663513513513514),\n",
       " ('Oman', 0.48780626780626785),\n",
       " ('Angola', 0.49000000000000005),\n",
       " ('South Africa', 0.4966756352765322),\n",
       " ('Thailand', 0.5001925391095067),\n",
       " ('Russia', 0.5694457831325301),\n",
       " ('United States', 0.6022807974307702),\n",
       " ('United Kingdom', 0.602629346904156),\n",
       " ('Liberia', 0.6066666666666667),\n",
       " ('Portugal', 0.6091044776119403),\n",
       " ('Mexico', 0.6096296296296296),\n",
       " ('Romania', 0.6747222222222223),\n",
       " ('Saint Kitts and Nevis', 0.6883333333333334),\n",
       " ('China', 0.7095582329317269),\n",
       " ('Turkey', 0.7231578947368421),\n",
       " ('Greece', 0.7398558558558559),\n",
       " ('Vietnam', 0.7533333333333333),\n",
       " ('Haiti', 0.756),\n",
       " (\"Côte d'Ivoire\", 0.773888888888889),\n",
       " ('Mayotte', 0.7862318840579711),\n",
       " ('Brazil', 0.7865876152832675),\n",
       " ('Ukraine', 0.7915089163237312),\n",
       " ('Egypt', 0.798989898989899),\n",
       " ('Panama', 0.8076923076923077),\n",
       " ('Croatia', 0.8131914893617022),\n",
       " ('Hungary', 0.8131914893617023),\n",
       " ('Cape Verde', 0.8166666666666667),\n",
       " ('Cameroon', 0.8166666666666667),\n",
       " ('Philippines', 0.8236363636363636),\n",
       " ('Mongolia', 0.8296296296296296),\n",
       " ('Tanzania', 0.8595911949685535),\n",
       " ('Saudi Arabia', 0.8610000000000001),\n",
       " ('Nigeria', 0.88),\n",
       " ('New Zealand', 0.8820420420420421),\n",
       " ('Latvia', 0.8858953168044078),\n",
       " ('Ethiopia', 0.8898630136986303),\n",
       " ('Japan', 0.8931792975970426),\n",
       " ('Guyana', 0.8946341463414634),\n",
       " ('Bosnia and Herzegovina', 0.8954166666666667),\n",
       " ('Australia', 0.9021955010224949),\n",
       " ('Trinidad and Tobago', 0.9117948717948718),\n",
       " ('Bolivia', 0.9162457912457913),\n",
       " ('Costa Rica', 0.9285714285714286),\n",
       " ('United Arab Emirates', 0.9368443051201673),\n",
       " ('Israel', 0.9375),\n",
       " ('Spain', 0.9387050359712231),\n",
       " ('Kazakhstan', 0.9441025641025641),\n",
       " ('Ecuador', 0.9464840182648403),\n",
       " ('Morocco', 0.9474747474747475),\n",
       " ('Taiwan', 0.9516920473773266),\n",
       " ('Colombia', 0.9621247563352827),\n",
       " ('Kuwait', 0.9640000000000001),\n",
       " ('Bahrain', 0.965),\n",
       " ('Ghana', 0.9668376068376069),\n",
       " ('Suriname', 0.9692307692307693),\n",
       " ('Réunion', 0.9836458333333333),\n",
       " ('Peru', 0.988755641521599),\n",
       " ('Chile', 0.9993595342066959),\n",
       " ('Singapore', 1.0133333333333334),\n",
       " ('Sudan', 1.0266666666666666),\n",
       " ('Greenland', 1.0266666666666666),\n",
       " ('Hong Kong', 1.0278048780487805),\n",
       " ('Bangladesh', 1.0288473520249222),\n",
       " ('Belgium', 1.040253164556962),\n",
       " ('Kyrgyzstan', 1.0446153846153847),\n",
       " ('Mozambique', 1.0733333333333335),\n",
       " ('Lebanon', 1.0762500000000002),\n",
       " ('Antigua and Barbuda', 1.0966666666666667),\n",
       " ('French Guiana', 1.1039080459770116),\n",
       " ('Qatar', 1.109367088607595),\n",
       " ('Martinique', 1.1122222222222222),\n",
       " ('Lesotho', 1.1711604938271607),\n",
       " ('Finland', 1.182004662004662),\n",
       " ('Algeria', 1.1841666666666666),\n",
       " ('Brunei', 1.25125),\n",
       " ('Georgia', 1.2814912280701753),\n",
       " ('Iran', 1.3274074074074074),\n",
       " ('Serbia', 1.3418357487922705),\n",
       " ('Dominica', 1.3444444444444446),\n",
       " ('Botswana', 1.347843137254902),\n",
       " ('El Salvador', 1.3504166666666668),\n",
       " ('Macao', 1.3712820512820514),\n",
       " ('Comoros', 1.394814814814815),\n",
       " ('Nicaragua', 1.4186666666666667),\n",
       " ('Fiji', 1.4233333333333333),\n",
       " ('Netherlands', 1.4524320124320125),\n",
       " ('Honduras', 1.4674074074074075),\n",
       " ('Cyprus', 1.4853658536585368),\n",
       " ('Ireland', 1.5010126582278482),\n",
       " ('Bulgaria', 1.5184615384615385),\n",
       " ('Senegal', 1.5225),\n",
       " ('Guatemala', 1.5255757575757576),\n",
       " ('Zambia', 1.54),\n",
       " ('Saint Vincent and the Grenadines', 1.5633333333333335),\n",
       " ('Armenia', 1.5866666666666667),\n",
       " ('Lithuania', 1.6281481481481483),\n",
       " ('Cuba', 1.661935483870968),\n",
       " ('Norway', 1.6935483870967742),\n",
       " ('Nepal', 1.7378666666666667),\n",
       " ('Madagascar', 1.82),\n",
       " ('Austria', 1.9494538606403014),\n",
       " ('Uganda', 1.9600000000000002),\n",
       " ('Paraguay', 1.9836764705882355),\n",
       " ('Denmark', 2.031131639722864),\n",
       " ('Iceland', 2.2555555555555555),\n",
       " ('Belize', 2.2555555555555555),\n",
       " ('Togo', 2.2866666666666666),\n",
       " ('Slovenia', 2.337066666666667),\n",
       " ('North Macedonia', 2.4661538461538464),\n",
       " ('Slovakia', 2.4835151515151517),\n",
       " ('Benin', 2.4966666666666666),\n",
       " ('Barbados', 2.5900000000000003),\n",
       " ('Malta', 2.605964912280702),\n",
       " ('Uzbekistan', 2.6133333333333333),\n",
       " ('Solomon Islands', 2.66),\n",
       " ('Kenya', 2.8933333333333335),\n",
       " ('Saint Lucia', 2.94),\n",
       " ('Estonia', 2.952962962962963),\n",
       " ('Indonesia', 3.026666666666667),\n",
       " ('Sri Lanka', 3.1395402298850574),\n",
       " ('Czechia', 3.1715384615384616),\n",
       " ('Switzerland', 3.4185454545454546),\n",
       " ('Azerbaijan', 3.5),\n",
       " ('Jordan', 3.6088888888888895),\n",
       " ('Malaysia', 3.621016949152543),\n",
       " ('Cambodia', 3.7783333333333333),\n",
       " ('Uruguay', 3.935264797507789),\n",
       " ('Belarus', 4.008421052631578),\n",
       " ('Tonga', 4.55),\n",
       " ('South Korea', 5.046363636363637),\n",
       " ('Republic of the Congo', 5.226666666666667),\n",
       " ('Myanmar (Burma)', 5.451358024691358),\n",
       " ('Albania', 5.70888888888889),\n",
       " ('Guadeloupe', 5.973333333333334),\n",
       " ('Canada', 7.237017543859649),\n",
       " ('Rwanda', 7.746666666666667),\n",
       " ('Laos', 7.8527272727272734),\n",
       " ('Namibia', 17.71777777777778),\n",
       " ('Montenegro', 21.560000000000002),\n",
       " ('Papua New Guinea', 24.383333333333333),\n",
       " ('Moldova', 45.873333333333335),\n",
       " ('Luxembourg', 54.366666666666674),\n",
       " ('Pakistan', 66.08),\n",
       " ('Eswatini', 97.70833333333334),\n",
       " ('Jersey', 111.60333333333334),\n",
       " ('Monaco', 130.45666666666668),\n",
       " ('Andorra', 275.24),\n",
       " ('The Bahamas', 426.16)]"
      ]
     },
     "execution_count": 36,
     "metadata": {},
     "output_type": "execute_result"
    }
   ],
   "source": [
    "ratios"
   ]
  },
  {
   "cell_type": "code",
   "execution_count": null,
   "id": "dcd62311-8de6-4d21-b45c-4853f76cda3f",
   "metadata": {},
   "outputs": [],
   "source": []
  }
 ],
 "metadata": {
  "kernelspec": {
   "display_name": "Python 3 (ipykernel)",
   "language": "python",
   "name": "python3"
  },
  "language_info": {
   "codemirror_mode": {
    "name": "ipython",
    "version": 3
   },
   "file_extension": ".py",
   "mimetype": "text/x-python",
   "name": "python",
   "nbconvert_exporter": "python",
   "pygments_lexer": "ipython3",
   "version": "3.8.11"
  }
 },
 "nbformat": 4,
 "nbformat_minor": 5
}
