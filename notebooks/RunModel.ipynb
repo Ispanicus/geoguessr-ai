{
 "cells": [
  {
   "cell_type": "markdown",
   "metadata": {},
   "source": [
    "This notebook was used to develop our job script for running the model, includes helper functions etc. More relevant to look at final script instead of this notebook"
   ]
  },
  {
   "cell_type": "code",
   "execution_count": 1,
   "metadata": {
    "colab": {
     "base_uri": "https://localhost:8080/"
    },
    "id": "2p0ZSTN2dosJ",
    "outputId": "b0615920-24c5-4e91-ef4a-2886cd1750fc"
   },
   "outputs": [],
   "source": [
    "%%capture magic\n",
    "# ! pip install ftfy regex tqdm;\n",
    "# ! pip install git+https://github.com/openai/CLIP.git;\n",
    "import numpy as np\n",
    "import torch\n",
    "import clip\n",
    "import os\n",
    "import skimage\n",
    "import IPython.display\n",
    "import matplotlib.pyplot as plt\n",
    "from PIL import Image\n",
    "import numpy as np\n",
    "from collections  import OrderedDict\n",
    "import pickle\n",
    "import random\n",
    "from tqdm import tqdm\n",
    "from sklearn.metrics import f1_score\n",
    "from sklearn.metrics import precision_recall_fscore_support as prfs\n",
    "\n",
    "\n",
    "# from google.colab import drive\n",
    "# drive.mount('/gdrive')\n",
    "model, preprocess = clip.load('ViT-B/32')\n",
    "model.cuda().eval()\n",
    "input_resolution = model.visual.input_resolution\n",
    "context_length = model.context_length\n",
    "vocab_size = model.vocab_size\n",
    "\n",
    "print(\"Model parameters:\", f\"{np.sum([int(np.prod(p.shape)) for p in model.parameters()]):,}\")\n",
    "print(\"Input resolution:\", input_resolution)\n",
    "print(\"Context length:\", context_length)\n",
    "print(\"Vocab size:\", vocab_size);"
   ]
  },
  {
   "cell_type": "code",
   "execution_count": 2,
   "metadata": {},
   "outputs": [
    {
     "data": {
      "text/plain": [
       "['RN50',\n",
       " 'RN101',\n",
       " 'RN50x4',\n",
       " 'RN50x16',\n",
       " 'RN50x64',\n",
       " 'ViT-B/32',\n",
       " 'ViT-B/16',\n",
       " 'ViT-L/14']"
      ]
     },
     "execution_count": 2,
     "metadata": {},
     "output_type": "execute_result"
    }
   ],
   "source": [
    "clip.available_models()"
   ]
  },
  {
   "cell_type": "code",
   "execution_count": null,
   "metadata": {},
   "outputs": [],
   "source": []
  },
  {
   "cell_type": "code",
   "execution_count": null,
   "metadata": {
    "colab": {
     "base_uri": "https://localhost:8080/",
     "height": 684
    },
    "id": "ttTvYaCQdxaH",
    "outputId": "59ed0be9-e790-4e8e-f3de-3731fa4fae58"
   },
   "outputs": [
    {
     "name": "stderr",
     "output_type": "stream",
     "text": [
      " 30%|██████████████████████▌                                                     | 10497/35341 [05:42<13:44, 30.13it/s]"
     ]
    }
   ],
   "source": [
    "# original_images = []\n",
    "# images = []\n",
    "# texts = []\n",
    "# source = \"./mapillary/mapillary1\" \n",
    "# data = pickle.load(open(f\"geoguessr-ai/metadata_w_google.pickle\",\"rb\"))\n",
    "# plt.figure(figsize=(16, 5))\n",
    "# error_name_list = []\n",
    "\n",
    "# file_country = {}\n",
    "# for key in data.keys():\n",
    "#     for i in range(len(data[key][\"results\"])):\n",
    "#         if \"country\" in data[key][\"results\"][i][\"types\"]:\n",
    "#             country = data[key][\"results\"][i][\"address_components\"][0][\"long_name\"]\n",
    "#             file_country[key] = country\n",
    "\n",
    "# for filename in tqdm([filename for filename in os.listdir(f\"{source}/train\") if filename.endswith(\".jpg\")]):\n",
    "#     name = os.path.splitext(filename)[0]\n",
    "#     if name not in data:\n",
    "#         continue\n",
    "#     image = Image.open(f\"{source}/train/{filename}\").convert(\"RGB\")\n",
    "#     if len(images) + 1 < 9: # find a smarter solution than early breaking\n",
    "#         plt.subplot(2, 4, len(images) + 1)\n",
    "#         plt.imshow(image)\n",
    "#         plt.title(f\"{filename}\\n{file_country[name]}\")\n",
    "#         plt.xticks([])\n",
    "#         plt.yticks([])\n",
    "\n",
    "#     if name in file_country:\n",
    "#         original_images.append(image)\n",
    "#         images.append(preprocess(image))\n",
    "#         texts.append(file_country[name])\n",
    "#     else:\n",
    "#         error_name_list.append(name)\n",
    "        \n",
    "# plt.tight_layout()\n",
    "# print(len(error_name_list))"
   ]
  },
  {
   "cell_type": "code",
   "execution_count": 5,
   "metadata": {},
   "outputs": [],
   "source": [
    "image_src = \"../mapillary/mapillary1/train\" \n",
    "batch_size = 1000"
   ]
  },
  {
   "cell_type": "code",
   "execution_count": 6,
   "metadata": {},
   "outputs": [],
   "source": [
    "data = pickle.load(open(f\"metadata_w_google.pickle\",\"rb\"))\n",
    "file_country = {}\n",
    "for key in data.keys():\n",
    "    for i in range(len(data[key][\"results\"])):\n",
    "        if \"country\" in data[key][\"results\"][i][\"types\"]:\n",
    "            country = data[key][\"results\"][i][\"address_components\"][0][\"long_name\"]\n",
    "            file_country[key] = country\n",
    "\n",
    "def get_data(batch_size = 1000, image_src = \"\", text_data = {},verbose=False,final_batch=True):\n",
    "    max_batch_num = len(os.listdir(f\"{image_src}\"))//batch_size\n",
    "    remainder = len(os.listdir(f\"{image_src}\"))%batch_size\n",
    "    for batch_num in range(max_batch_num+1):\n",
    "        \n",
    "        images = []\n",
    "        texts = []\n",
    "        \n",
    "        if batch_num == max_batch_num and remainder == 0:\n",
    "            continue\n",
    "        elif batch_num == max_batch_num and final_batch == True:\n",
    "            filenames = [filename for filename in os.listdir(f\"{image_src}\")[max_batch_num*batch_size::] if filename.endswith(\".jpg\")]\n",
    "        elif batch_num == max_batch_num and final_batch != True:\n",
    "            continue\n",
    "        else:\n",
    "            filenames = [filename for filename in os.listdir(f\"{image_src}\")[batch_num*batch_size:(batch_num+1)*batch_size] if filename.endswith(\".jpg\")]\n",
    "        \n",
    "        for filename in filenames:\n",
    "            name = os.path.splitext(filename)[0]\n",
    "            if name not in text_data:\n",
    "                if verbose: print(\"missing: \", name)\n",
    "                continue\n",
    "                \n",
    "            image = Image.open(f\"{image_src}/{filename}\").convert(\"RGB\")\n",
    "\n",
    "\n",
    "            if name in file_country:\n",
    "                images.append(preprocess(image))\n",
    "                texts.append(text_data[name])\n",
    "            else:\n",
    "                error_name_list.append(name)\n",
    "                \n",
    "        yield images, texts, filenames\n",
    "    \n",
    "    \n",
    "def convert_from_desc(text,start_text,end_text):\n",
    "    text = text.replace(start_text, \"\")\n",
    "    text = text.replace(end_text, \"\")\n",
    "    return text\n",
    "    "
   ]
  },
  {
   "cell_type": "code",
   "execution_count": 7,
   "metadata": {},
   "outputs": [
    {
     "name": "stdout",
     "output_type": "stream",
     "text": [
      "Got batch number:  0\n"
     ]
    }
   ],
   "source": [
    "image_src = \"../mapillary/mapillary1/train\" \n",
    "batch = 0\n",
    "all_labels = []\n",
    "all_texts = []\n",
    "for images, texts, filenames in get_data(batch_size = 1000, image_src = image_src, text_data = file_country):\n",
    "    print(\"Got batch number: \", batch)\n",
    "    combined = list(zip(images, texts, filenames))\n",
    "    random.shuffle(combined)\n",
    "    images[:], texts[:], filenames[:] = zip(*combined)\n",
    "    image_input = torch.tensor(np.stack(images)).cuda()\n",
    "    start_text = \"This is a photo of \"\n",
    "    end_text = \", a country\"\n",
    "    text_descriptions = [f\"{start_text}{cc}{end_text}\" for cc in set(file_country.values())]\n",
    "    text_tokens = clip.tokenize(text_descriptions).cuda()\n",
    "    \n",
    "    with torch.no_grad():\n",
    "        image_features = model.encode_image(image_input).float()\n",
    "        text_features = model.encode_text(text_tokens).float()\n",
    "        text_features /= text_features.norm(dim=-1, keepdim=True)\n",
    "        \n",
    "    text_probs = (100.0 * image_features @ text_features.T).softmax(dim=-1)\n",
    "    top_probs, top_labels = text_probs.cpu().topk(1, dim=-1)\n",
    "    all_labels.extend([[label.item() for label in image] for image in top_labels])\n",
    "    all_texts.extend(texts)\n",
    "    \n",
    "    batch += 1\n",
    "    if batch == 1:\n",
    "        break\n",
    "\n",
    "\n",
    "    "
   ]
  },
  {
   "cell_type": "code",
   "execution_count": 11,
   "metadata": {},
   "outputs": [],
   "source": [
    "top_label_text = [[convert_from_desc(text_descriptions[labels[x]],start_text,end_text) for x in range(len(labels))] for labels in all_labels]\n",
    "\n",
    "# count = 0\n",
    "# for x,y in zip(top_label_text,all_texts):\n",
    "#     if y in x: count += 1\n",
    "# print(count/len(all_labels))\n"
   ]
  },
  {
   "cell_type": "code",
   "execution_count": 30,
   "metadata": {},
   "outputs": [],
   "source": [
    "top_label_text = [x[0] for x in top_label_text]"
   ]
  },
  {
   "cell_type": "code",
   "execution_count": null,
   "metadata": {},
   "outputs": [],
   "source": []
  },
  {
   "cell_type": "code",
   "execution_count": 31,
   "metadata": {},
   "outputs": [
    {
     "data": {
      "text/plain": [
       "(0.590850272561817, 0.2998527079084523, 0.34273774973472887, None)"
      ]
     },
     "execution_count": 31,
     "metadata": {},
     "output_type": "execute_result"
    }
   ],
   "source": [
    "prfs(all_texts, top_label_text, average=\"weighted\")"
   ]
  },
  {
   "cell_type": "code",
   "execution_count": 34,
   "metadata": {},
   "outputs": [
    {
     "data": {
      "text/plain": [
       "(0.1669102194341152, 0.2503957050490188, 0.13066719738351681, None)"
      ]
     },
     "execution_count": 34,
     "metadata": {},
     "output_type": "execute_result"
    }
   ],
   "source": [
    "prfs(all_texts, top_label_text, average=\"macro\")"
   ]
  },
  {
   "cell_type": "code",
   "execution_count": 32,
   "metadata": {},
   "outputs": [
    {
     "data": {
      "text/plain": [
       "159"
      ]
     },
     "execution_count": 32,
     "metadata": {},
     "output_type": "execute_result"
    }
   ],
   "source": [
    "len(set(all_texts))"
   ]
  },
  {
   "cell_type": "code",
   "execution_count": 33,
   "metadata": {},
   "outputs": [
    {
     "data": {
      "text/plain": [
       "159"
      ]
     },
     "execution_count": 33,
     "metadata": {},
     "output_type": "execute_result"
    }
   ],
   "source": [
    "len(set(top_label_text))"
   ]
  },
  {
   "cell_type": "code",
   "execution_count": 21,
   "metadata": {},
   "outputs": [
    {
     "data": {
      "text/plain": [
       "0.3289532319333544"
      ]
     },
     "execution_count": 21,
     "metadata": {},
     "output_type": "execute_result"
    }
   ],
   "source": [
    "f1_score(all_texts, top_label_text, average='weighted')"
   ]
  },
  {
   "cell_type": "code",
   "execution_count": 35,
   "metadata": {},
   "outputs": [],
   "source": [
    "from collections import Counter\n",
    "from math import log\n",
    "c_counts = Counter(list(file_country.values()))\n",
    "sorted_ = list(c_counts.items())\n",
    "sorted_.sort(reverse=False, key= lambda x: x[1])\n",
    "countries, counts = zip(*sorted_)"
   ]
  },
  {
   "cell_type": "code",
   "execution_count": 37,
   "metadata": {},
   "outputs": [],
   "source": [
    "#sorted_"
   ]
  },
  {
   "cell_type": "code",
   "execution_count": 33,
   "metadata": {},
   "outputs": [
    {
     "data": {
      "text/plain": [
       "<BarContainer object of 159 artists>"
      ]
     },
     "execution_count": 33,
     "metadata": {},
     "output_type": "execute_result"
    },
    {
     "data": {
      "image/png": "[encoded data removed]",
      "text/plain": [
       "<Figure size 432x288 with 1 Axes>"
      ]
     },
     "metadata": {
      "needs_background": "light"
     },
     "output_type": "display_data"
    }
   ],
   "source": [
    "plt.bar(countries,counts)"
   ]
  },
  {
   "cell_type": "code",
   "execution_count": null,
   "metadata": {},
   "outputs": [],
   "source": []
  },
  {
   "cell_type": "code",
   "execution_count": null,
   "metadata": {},
   "outputs": [],
   "source": [
    "texts"
   ]
  },
  {
   "cell_type": "code",
   "execution_count": null,
   "metadata": {},
   "outputs": [],
   "source": []
  }
 ],
 "metadata": {
  "accelerator": "GPU",
  "colab": {
   "collapsed_sections": [],
   "name": "Mapillary.ipynb",
   "provenance": []
  },
  "kernelspec": {
   "display_name": "Python 3 (ipykernel)",
   "language": "python",
   "name": "python3"
  },
  "language_info": {
   "codemirror_mode": {
    "name": "ipython",
    "version": 3
   },
   "file_extension": ".py",
   "mimetype": "text/x-python",
   "name": "python",
   "nbconvert_exporter": "python",
   "pygments_lexer": "ipython3",
   "version": "3.8.11"
  }
 },
 "nbformat": 4,
 "nbformat_minor": 4
}
