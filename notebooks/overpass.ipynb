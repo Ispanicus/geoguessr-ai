{
 "cells": [
  {
   "cell_type": "markdown",
   "id": "a59a49d5-ae92-4fb9-ab8a-d9cc8db8fd09",
   "metadata": {},
   "source": [
    "Initial attempt to get metadata for mapillary using overpass api, ended up using geopy's api to overpass to get results. This notebook is probably no longer useful"
   ]
  },
  {
   "cell_type": "code",
   "execution_count": 30,
   "id": "13c71c3a-a59d-44cc-8b2e-8a9bc546d268",
   "metadata": {},
   "outputs": [],
   "source": [
    "import requests\n",
    "import json\n",
    "from tqdm import tqdm\n",
    "import os\n",
    "import overpy\n",
    "api = overpy.Overpass()\n",
    "api.default_max_retry_count = 5\n",
    "api.default_retry_timeout = 10\n",
    "# https://towardsdatascience.com/loading-data-from-openstreetmap-with-python-and-the-overpass-api-513882a27fd0"
   ]
  },
  {
   "cell_type": "code",
   "execution_count": 2,
   "id": "0921e263-86f4-4572-abd3-3229e0e34b39",
   "metadata": {},
   "outputs": [],
   "source": []
  },
  {
   "cell_type": "code",
   "execution_count": 4,
   "id": "d8b7fe09-dcb0-431f-8a63-a682bac5d8b7",
   "metadata": {},
   "outputs": [],
   "source": [
    "overpass_url = \"http://overpass-api.de/api/interpreter\"\n",
    "countries = [(\"US\",\"4\",\"State\"), (\"CN\",\"4\",\"Province\"), (\"IN\",\"4\",\"State\"),(\"RU\",\"3\",\"Federal districts\"), (\"FR\",\"4\",\"Regions\")]\n",
    "country_coords = {c[0]:{\"admin_level\":c[1],\"division_name\":c[2],\"files\":dict()} for c in countries}\n",
    "admin = \"admin_level\"\n",
    "for file in os.listdir(\"../country211/train\"):\n",
    "    if file in country_coords.keys():\n",
    "        for file2 in os.listdir(\"../country211/train/\"+file):\n",
    "            country_coords[file][\"files\"][file2] = dict()\n",
    "            id_, lat, long = file2.split(\"_\")\n",
    "            country_coords[file][\"files\"][file2][\"lat\"] = lat\n",
    "            country_coords[file][\"files\"][file2][\"long\"] = long[:-4]\n",
    "            country_coords[file][\"files\"][file2][\"id\"] = id_\n",
    "            "
   ]
  },
  {
   "cell_type": "code",
   "execution_count": 142,
   "id": "71316348-94f7-43ea-89fa-87bc5af31d50",
   "metadata": {},
   "outputs": [],
   "source": [
    "# country_coords[\"US\"]\n",
    "# list(country_coords[\"US\"][\"files\"])"
   ]
  },
  {
   "cell_type": "code",
   "execution_count": null,
   "id": "79756964-b14d-414d-b767-081cd1877537",
   "metadata": {},
   "outputs": [
    {
     "name": "stderr",
     "output_type": "stream",
     "text": [
      "3it [00:00, 20.75it/s]"
     ]
    },
    {
     "name": "stdout",
     "output_type": "stream",
     "text": [
      "0\n",
      "1\n",
      "2\n",
      "3\n",
      "4"
     ]
    },
    {
     "name": "stderr",
     "output_type": "stream",
     "text": [
      "6it [00:00, 20.28it/s]"
     ]
    },
    {
     "name": "stdout",
     "output_type": "stream",
     "text": [
      "\n",
      "5\n",
      "6\n",
      "7\n"
     ]
    },
    {
     "name": "stderr",
     "output_type": "stream",
     "text": [
      "11it [00:00, 18.32it/s]"
     ]
    },
    {
     "name": "stdout",
     "output_type": "stream",
     "text": [
      "8\n",
      "9\n",
      "10\n",
      "11\n"
     ]
    },
    {
     "name": "stderr",
     "output_type": "stream",
     "text": [
      "15it [00:00, 18.23it/s]"
     ]
    },
    {
     "name": "stdout",
     "output_type": "stream",
     "text": [
      "12\n",
      "13\n",
      "14\n",
      "15\n",
      "16"
     ]
    },
    {
     "name": "stderr",
     "output_type": "stream",
     "text": [
      "20it [00:01, 18.73it/s]"
     ]
    },
    {
     "name": "stdout",
     "output_type": "stream",
     "text": [
      "\n",
      "17\n",
      "18\n",
      "19\n"
     ]
    },
    {
     "name": "stderr",
     "output_type": "stream",
     "text": [
      "22it [00:01, 17.94it/s]"
     ]
    },
    {
     "name": "stdout",
     "output_type": "stream",
     "text": [
      "20\n",
      "21\n",
      "22\n",
      "23\n"
     ]
    },
    {
     "name": "stderr",
     "output_type": "stream",
     "text": [
      "27it [00:01, 18.22it/s]"
     ]
    },
    {
     "name": "stdout",
     "output_type": "stream",
     "text": [
      "24\n",
      "25\n",
      "26\n",
      "27"
     ]
    },
    {
     "name": "stderr",
     "output_type": "stream",
     "text": [
      "32it [00:01, 19.15it/s]"
     ]
    },
    {
     "name": "stdout",
     "output_type": "stream",
     "text": [
      "\n",
      "28\n",
      "29\n",
      "30\n",
      "31\n"
     ]
    },
    {
     "name": "stderr",
     "output_type": "stream",
     "text": [
      "36it [00:01, 18.73it/s]"
     ]
    },
    {
     "name": "stdout",
     "output_type": "stream",
     "text": [
      "32\n",
      "33\n",
      "34\n",
      "35\n"
     ]
    },
    {
     "name": "stderr",
     "output_type": "stream",
     "text": [
      "40it [00:02, 18.51it/s]"
     ]
    },
    {
     "name": "stdout",
     "output_type": "stream",
     "text": [
      "36\n",
      "37\n",
      "38\n",
      "39\n"
     ]
    },
    {
     "name": "stderr",
     "output_type": "stream",
     "text": [
      "44it [00:02, 18.73it/s]"
     ]
    },
    {
     "name": "stdout",
     "output_type": "stream",
     "text": [
      "40\n",
      "41\n",
      "42\n",
      "43\n"
     ]
    },
    {
     "name": "stderr",
     "output_type": "stream",
     "text": [
      "48it [00:02, 18.62it/s]"
     ]
    },
    {
     "name": "stdout",
     "output_type": "stream",
     "text": [
      "44\n",
      "45\n",
      "46\n",
      "47\n"
     ]
    },
    {
     "name": "stderr",
     "output_type": "stream",
     "text": [
      "52it [00:02, 18.99it/s]"
     ]
    },
    {
     "name": "stdout",
     "output_type": "stream",
     "text": [
      "48\n",
      "49\n",
      "50\n",
      "51\n",
      "52"
     ]
    },
    {
     "name": "stderr",
     "output_type": "stream",
     "text": [
      "55it [00:02, 20.50it/s]"
     ]
    },
    {
     "name": "stdout",
     "output_type": "stream",
     "text": [
      "\n",
      "53\n",
      "54\n",
      "55\n",
      "56\n"
     ]
    },
    {
     "name": "stderr",
     "output_type": "stream",
     "text": [
      "60it [00:03, 19.21it/s]"
     ]
    },
    {
     "name": "stdout",
     "output_type": "stream",
     "text": [
      "57\n",
      "58\n",
      "59\n",
      "60\n"
     ]
    },
    {
     "name": "stderr",
     "output_type": "stream",
     "text": [
      "65it [00:03, 20.84it/s]"
     ]
    },
    {
     "name": "stdout",
     "output_type": "stream",
     "text": [
      "61\n",
      "62\n",
      "63\n",
      "64\n",
      "65\n",
      "66"
     ]
    },
    {
     "name": "stderr",
     "output_type": "stream",
     "text": [
      "71it [00:03, 22.47it/s]"
     ]
    },
    {
     "name": "stdout",
     "output_type": "stream",
     "text": [
      "\n",
      "67\n",
      "68\n",
      "69\n",
      "70\n",
      "71"
     ]
    },
    {
     "name": "stderr",
     "output_type": "stream",
     "text": [
      "74it [00:03, 21.46it/s]"
     ]
    },
    {
     "name": "stdout",
     "output_type": "stream",
     "text": [
      "\n",
      "72\n",
      "73\n",
      "74\n"
     ]
    },
    {
     "name": "stderr",
     "output_type": "stream",
     "text": [
      "77it [00:03, 20.66it/s]"
     ]
    },
    {
     "name": "stdout",
     "output_type": "stream",
     "text": [
      "75\n",
      "76\n",
      "77\n",
      "78\n",
      "79"
     ]
    },
    {
     "name": "stderr",
     "output_type": "stream",
     "text": [
      "83it [00:04, 20.18it/s]"
     ]
    },
    {
     "name": "stdout",
     "output_type": "stream",
     "text": [
      "\n",
      "80\n",
      "81\n",
      "82\n"
     ]
    },
    {
     "name": "stderr",
     "output_type": "stream",
     "text": [
      "86it [00:04, 19.88it/s]"
     ]
    },
    {
     "name": "stdout",
     "output_type": "stream",
     "text": [
      "83\n",
      "84\n",
      "85\n",
      "86\n"
     ]
    },
    {
     "name": "stderr",
     "output_type": "stream",
     "text": [
      "90it [00:04, 19.02it/s]"
     ]
    },
    {
     "name": "stdout",
     "output_type": "stream",
     "text": [
      "87\n",
      "88\n",
      "89\n",
      "90\n"
     ]
    },
    {
     "name": "stderr",
     "output_type": "stream",
     "text": [
      "94it [00:04, 18.91it/s]"
     ]
    },
    {
     "name": "stdout",
     "output_type": "stream",
     "text": [
      "91\n",
      "92\n",
      "93\n",
      "94"
     ]
    },
    {
     "name": "stderr",
     "output_type": "stream",
     "text": [
      "96it [00:05, 17.03it/s]"
     ]
    },
    {
     "name": "stdout",
     "output_type": "stream",
     "text": [
      "\n",
      "95\n",
      "96\n",
      "97\n"
     ]
    },
    {
     "name": "stderr",
     "output_type": "stream",
     "text": [
      "101it [00:05, 17.33it/s]"
     ]
    },
    {
     "name": "stdout",
     "output_type": "stream",
     "text": [
      "98\n",
      "99\n",
      "100\n",
      "101\n"
     ]
    },
    {
     "name": "stderr",
     "output_type": "stream",
     "text": [
      "105it [00:05, 17.67it/s]"
     ]
    },
    {
     "name": "stdout",
     "output_type": "stream",
     "text": [
      "102\n",
      "103\n",
      "104\n",
      "105\n"
     ]
    },
    {
     "name": "stderr",
     "output_type": "stream",
     "text": [
      "109it [00:05, 17.53it/s]"
     ]
    },
    {
     "name": "stdout",
     "output_type": "stream",
     "text": [
      "106\n",
      "107\n",
      "108\n",
      "109"
     ]
    }
   ],
   "source": [
    "\n",
    "result_list = []\n",
    "for country in [\"US\",\"CN\"]:\n",
    "    query = f\"\"\n",
    "    country_files = list(country_coords[country][\"files\"])\n",
    "    for idx, file in tqdm(enumerate(country_files)):\n",
    "        lat = country_coords[country][\"files\"][file][\"lat\"]\n",
    "        long = country_coords[country][\"files\"][file][\"long\"]\n",
    "        admin = country_coords[country][\"admin_level\"]\n",
    "        query = f\"[out:csv];\" + (f\"is_in({lat},{long});area._[admin_level={admin}];out;\")\n",
    "        \n",
    "        try:\n",
    "            result = api.query(query)\n",
    "            result_list.append(result) \n",
    "        except:\n",
    "            print(idx)\n"
   ]
  },
  {
   "cell_type": "code",
   "execution_count": 28,
   "id": "b06914a4-a09e-4bcc-a2ad-23ff84fd7b81",
   "metadata": {},
   "outputs": [
    {
     "data": {
      "text/plain": [
       "[<overpy.Result at 0x17b97b0ac88>,\n",
       " <overpy.Result at 0x17b97b071c8>,\n",
       " <overpy.Result at 0x17b96a10c88>,\n",
       " <overpy.Result at 0x17b97d98108>,\n",
       " <overpy.Result at 0x17b97b0c808>,\n",
       " <overpy.Result at 0x17b97d887c8>,\n",
       " <overpy.Result at 0x17b97d7fb88>,\n",
       " <overpy.Result at 0x17b97d9bcc8>,\n",
       " <overpy.Result at 0x17b97de89c8>]"
      ]
     },
     "execution_count": 28,
     "metadata": {},
     "output_type": "execute_result"
    }
   ],
   "source": [
    "result_list"
   ]
  },
  {
   "cell_type": "code",
   "execution_count": 24,
   "id": "5c959f06-d718-4a55-8708-666d150d58de",
   "metadata": {},
   "outputs": [
    {
     "name": "stdout",
     "output_type": "stream",
     "text": [
      "Maryland\n",
      "Washington\n",
      "California\n",
      "Mississippi\n",
      "Texas\n",
      "Virginia\n",
      "New York\n",
      "Nevada\n",
      "Maine\n",
      "Oregon\n",
      "Pennsylvania\n",
      "New Jersey\n",
      "Connecticut\n",
      "Florida\n",
      "District of Columbia\n",
      "Arizona\n",
      "Ohio\n",
      "South Carolina\n",
      "Indiana\n",
      "Tennessee\n",
      "Illinois\n",
      "Iowa\n",
      "Wisconsin\n",
      "Hawaii\n",
      "Massachusetts\n",
      "Wyoming\n",
      "Arkansas\n",
      "Michigan\n",
      "Alabama\n",
      "Alaska\n",
      "North Carolina\n",
      "Georgia\n",
      "Kentucky\n",
      "Rhode Island\n",
      "Colorado\n",
      "Minnesota\n",
      "West Virginia\n"
     ]
    }
   ],
   "source": [
    "for area in result.areas:\n",
    "    print(area.tags[\"name:en\"])"
   ]
  },
  {
   "cell_type": "code",
   "execution_count": null,
   "id": "3a3ed11f-6f7e-4d00-b86a-6147bf7977bf",
   "metadata": {},
   "outputs": [],
   "source": []
  },
  {
   "cell_type": "code",
   "execution_count": null,
   "id": "369c944e-c924-4719-a352-a59a2633b0e1",
   "metadata": {},
   "outputs": [],
   "source": [
    "data[\"elements\"]"
   ]
  },
  {
   "cell_type": "code",
   "execution_count": 6,
   "id": "f2a1db8c-c092-4b59-9b3a-118227bdcea9",
   "metadata": {},
   "outputs": [],
   "source": [
    "testquery = \"[out:json];is_in(39.279399,-76.606498);area._[admin_level=4];out;\"\n",
    "result = api.query(testquery)"
   ]
  },
  {
   "cell_type": "code",
   "execution_count": 18,
   "id": "d2baa6c2-eb80-4592-b1a4-1fa56bc255ad",
   "metadata": {},
   "outputs": [
    {
     "data": {
      "text/plain": [
       "'Maryland'"
      ]
     },
     "execution_count": 18,
     "metadata": {},
     "output_type": "execute_result"
    }
   ],
   "source": [
    "result.areas[0].tags[\"name:en\"]"
   ]
  },
  {
   "cell_type": "code",
   "execution_count": 67,
   "id": "1a844bd4-194a-4bea-a78a-3f23f9e1cfba",
   "metadata": {},
   "outputs": [],
   "source": [
    "import pickle\n",
    "with open('country_coords.pickle', 'wb') as handle:\n",
    "    pickle.dump(country_coords, handle, protocol=pickle.HIGHEST_PROTOCOL)\n",
    "    \n",
    "# with open('filename.pickle', 'rb') as handle:\n",
    "#     b = pickle.load(handle)"
   ]
  },
  {
   "cell_type": "code",
   "execution_count": null,
   "id": "32f9ee3f-c1ff-407f-86bf-3bf32eb7f5b4",
   "metadata": {},
   "outputs": [],
   "source": [
    "country_coords"
   ]
  },
  {
   "cell_type": "markdown",
   "id": "24210554-0436-46fe-b6cc-48a357b09929",
   "metadata": {},
   "source": [
    "example image in china 861748_32.017855_118.794647\n",
    "\n",
    "example image in India 101127_27.216661_77.950291\n",
    "\n",
    "example image in France 903539_48.852522_2.348069"
   ]
  },
  {
   "cell_type": "code",
   "execution_count": 143,
   "id": "9530cb94-53b6-4996-a975-94a252e91eeb",
   "metadata": {},
   "outputs": [],
   "source": [
    "overpass_url = \"http://overpass-api.de/api/interpreter\"\n",
    "overpass_query = \"\"\"\n",
    "[out:json];\n",
    "is_in(27.216661,77.950291);\n",
    "\n",
    "out body ;\n",
    "is_in(48.852522,2.348069);\n",
    "area._[admin_level=4];\n",
    "out ;\n",
    "\"\"\"\n",
    "response = requests.get(overpass_url, \n",
    "                        params={'data': overpass_query})\n",
    "data = response.json()"
   ]
  },
  {
   "cell_type": "code",
   "execution_count": 147,
   "id": "88ca6533-77b0-4045-a17a-7e7190d6f9e2",
   "metadata": {},
   "outputs": [],
   "source": [
    "\n",
    "# data[\"elements\"][3]"
   ]
  },
  {
   "cell_type": "code",
   "execution_count": 134,
   "id": "891411a2-35f2-42ea-864e-fe40c94be2a5",
   "metadata": {},
   "outputs": [
    {
     "name": "stdout",
     "output_type": "stream",
     "text": [
      "admin level  2\n",
      "name  India\n",
      "admin level  4\n",
      "name  Uttar Pradesh\n",
      "admin level  5\n",
      "name  Agra\n",
      "admin level  6\n",
      "name  Agra\n",
      "{'type': 'area', 'id': 3611203285, 'tags': {'multipolygon': 'river_basin', 'name': 'Ganga Yamuna River Basin', 'type': 'multipolygon'}}\n",
      "admin level  10\n",
      "name  48\n",
      "admin level  8\n",
      "name  Agra Nagar Nigam\n",
      "admin level  tbd\n",
      "name  Agra division\n",
      "admin level  4\n",
      "name  Île-de-France\n"
     ]
    }
   ],
   "source": [
    "for element in data[\"elements\"]:\n",
    "    if element[\"type\"] == \"area\":\n",
    "#         print(element)\n",
    "        try:\n",
    "            print(\"admin level \", element[\"tags\"][\"admin_level\"])\n",
    "            print(\"name \", element[\"tags\"][\"name\"])\n",
    "        except:\n",
    "            print(element)"
   ]
  },
  {
   "cell_type": "code",
   "execution_count": 71,
   "id": "d7ddda4e-730f-4a17-9e5a-a66d687a0532",
   "metadata": {},
   "outputs": [
    {
     "data": {
      "text/plain": [
       "'Ile-de-France'"
      ]
     },
     "execution_count": 71,
     "metadata": {},
     "output_type": "execute_result"
    }
   ],
   "source": [
    "data[\"elements\"][0][\"tags\"][\"name:en\"]\n",
    "# data[\"elements\"][0][\"tags\"]\n"
   ]
  },
  {
   "cell_type": "code",
   "execution_count": 3,
   "id": "8af85a29-14c6-4a41-8a63-ce38ea8e620e",
   "metadata": {},
   "outputs": [],
   "source": [
    "overpass_url = \"http://overpass-api.de/api/interpreter\"\n",
    "overpass_query = \"\"\"\n",
    "[out:json];\n",
    "area[\"ISO3166-1\"=\"DE\"][admin_level=2];\n",
    "(node[\"amenity\"=\"biergarten\"](area);\n",
    " way[\"amenity\"=\"biergarten\"](area);\n",
    " rel[\"amenity\"=\"biergarten\"](area);\n",
    ");\n",
    "out center;\n",
    "\"\"\"\n",
    "response = requests.get(overpass_url, \n",
    "                        params={'data': overpass_query})\n",
    "data = response.json()"
   ]
  },
  {
   "cell_type": "code",
   "execution_count": null,
   "id": "b1f8ec4e-360f-48cc-b2a2-8cfa208e5e7d",
   "metadata": {},
   "outputs": [],
   "source": [
    "data"
   ]
  },
  {
   "cell_type": "code",
   "execution_count": null,
   "id": "bf4e01e7-eb72-4295-a4ca-8108670e9ab5",
   "metadata": {},
   "outputs": [],
   "source": [
    "1627214_42.510229_1.539802"
   ]
  },
  {
   "cell_type": "code",
   "execution_count": null,
   "id": "2bc4ccd3-278d-4742-87bd-b5b81cb500e6",
   "metadata": {},
   "outputs": [],
   "source": [
    "<node id=\"25496583\" lat=\"51.5173639\" lon=\"-0.140043\" </node>"
   ]
  }
 ],
 "metadata": {
  "kernelspec": {
   "display_name": "Python 3 (ipykernel)",
   "language": "python",
   "name": "python3"
  },
  "language_info": {
   "codemirror_mode": {
    "name": "ipython",
    "version": 3
   },
   "file_extension": ".py",
   "mimetype": "text/x-python",
   "name": "python",
   "nbconvert_exporter": "python",
   "pygments_lexer": "ipython3",
   "version": "3.8.11"
  }
 },
 "nbformat": 4,
 "nbformat_minor": 5
}
