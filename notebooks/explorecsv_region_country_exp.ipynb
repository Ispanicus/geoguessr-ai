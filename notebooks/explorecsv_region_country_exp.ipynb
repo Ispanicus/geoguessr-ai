{
 "cells": [
  {
   "cell_type": "code",
   "execution_count": 1,
   "id": "c68ad345-5693-4921-9504-7962950d0907",
   "metadata": {},
   "outputs": [],
   "source": [
    "import csv\n",
    "from sklearn.metrics import classification_report,confusion_matrix\n",
    "from sklearn.metrics import matthews_corrcoef as MC\n",
    "from sklearn.metrics import ConfusionMatrixDisplay as CMD\n",
    "from sklearn.metrics import classification_report as c_rep\n",
    "from sklearn.metrics import f1_score as f1\n",
    "from sklearn.metrics import accuracy_score as acc\n",
    "import matplotlib.pyplot as plt\n",
    "from collections import Counter as Cnt\n",
    "import geopandas as gpd\n",
    "import pickle\n",
    "import pandas as pd\n",
    "import json\n",
    "import random\n",
    "import Utils\n",
    "#matthews corrcoef https://towardsdatascience.com/comprehensive-guide-on-multiclass-classification-metrics-af94cfb83fbd"
   ]
  },
  {
   "cell_type": "code",
   "execution_count": 2,
   "id": "0916aec8-b7c7-41eb-b9d2-56f9e48653d5",
   "metadata": {},
   "outputs": [],
   "source": [
    "with open(\"../../country_data_final.pickle\", 'rb') as handle:\n",
    "    data = pickle.load(handle)\n",
    "with open(\"../../mapillary/train.json\") as file:\n",
    "    metadata = json.load(file)\n",
    "with open(\"../pickles/country_to_region.json\") as file:\n",
    "    region_to_country = json.load(file)"
   ]
  },
  {
   "cell_type": "code",
   "execution_count": 3,
   "id": "23439910-b7bc-46e9-9214-bb08194e400c",
   "metadata": {},
   "outputs": [],
   "source": [
    "result_country_direct_file = \"country100_results.csv\"\n",
    "result_region_file = \"country100_region_results.csv\"\n",
    "result_country_from_region_file = \"country100_country_from_region_results.csv\"\n"
   ]
  },
  {
   "cell_type": "code",
   "execution_count": 4,
   "id": "06a4f7e1-6496-4a08-8a71-a680daa3b9f2",
   "metadata": {},
   "outputs": [],
   "source": [
    "gold, predicts, probs, filenames = Utils.read_resultcsv(result_country_direct_file)\n",
    "_, predictsregion, _, filenames2 = Utils.read_resultcsv(result_region_file)\n",
    "_, predictscountry, _, filenames3 = Utils.read_resultcsv(result_country_from_region_file)\n",
    "\n",
    "predict = [x[0] for x in predicts]\n",
    "predictregion = [x[0] for x in predictsregion]\n",
    "predictcountry = [x[0] for x in predictscountry]"
   ]
  },
  {
   "cell_type": "code",
   "execution_count": null,
   "id": "dfa0b076-0d0f-4e05-ab54-37bfcd153cd0",
   "metadata": {},
   "outputs": [],
   "source": []
  },
  {
   "cell_type": "markdown",
   "id": "ee907abd-7e57-4f36-bfc6-15e3b1b728ee",
   "metadata": {},
   "source": [
    "# Predict region "
   ]
  },
  {
   "cell_type": "code",
   "execution_count": 12,
   "id": "6bf5c93b-d41e-48e8-a70f-c20dcbd86081",
   "metadata": {},
   "outputs": [
    {
     "name": "stdout",
     "output_type": "stream",
     "text": [
      "Top 1 acc:  0.70\n",
      "Top 3 acc:  0.89\n",
      "Top 5 acc:  0.93\n"
     ]
    }
   ],
   "source": [
    "predict1reg = 0\n",
    "predict3reg = 0\n",
    "predict5reg = 0\n",
    "for cg, cp in zip(gold,predictsregion):\n",
    "    if cg in region_to_country[cp[0]]:\n",
    "        predict1reg +=1\n",
    "    for reg in cp[:3]:\n",
    "        if cg in region_to_country[reg]:\n",
    "            predict3reg +=1\n",
    "            break\n",
    "    for reg in cp[:5]:\n",
    "        if cg in region_to_country[reg]:\n",
    "            predict5reg +=1\n",
    "            break\n",
    "            \n",
    "# print(f\"F1 score {f1(gold,predict,average='macro'):.2f}\")\n",
    "print(\"Top 1 acc: \",f\"{predict1reg/len(gold):.2f}\")\n",
    "print(\"Top 3 acc: \",f\"{predict3reg/len(gold):.2f}\")\n",
    "print(\"Top 5 acc: \",f\"{predict5reg/len(gold):.2f}\")\n"
   ]
  },
  {
   "cell_type": "markdown",
   "id": "e2ad3a22-ad04-436f-94f7-47f0e7d8117c",
   "metadata": {},
   "source": [
    "# Predict Country in Region"
   ]
  },
  {
   "cell_type": "code",
   "execution_count": 15,
   "id": "744ffc25-c559-4515-b217-14c941056633",
   "metadata": {},
   "outputs": [
    {
     "name": "stdout",
     "output_type": "stream",
     "text": [
      "F1 score 0.28\n",
      "Top 1 acc:  0.39\n",
      "Top 3 acc:  0.39\n",
      "Top 5 acc:  0.39\n"
     ]
    }
   ],
   "source": [
    "predictc = [x[0] for x in predictscountry]\n",
    "predictc3 = []\n",
    "predictc5 = []\n",
    "for cg, cp in zip(gold,predictscountry):\n",
    "    if cg in cp[:3]:\n",
    "        predictc3.append(cg)\n",
    "    else:\n",
    "        predictc3.append(cp[0])\n",
    "    if cg in cp[:5]:\n",
    "        predictc5.append(cg)\n",
    "    else:\n",
    "        predictc5.append(cp[0])\n",
    "print(f\"F1 score {f1(gold,predictc,average='macro'):.2f}\")\n",
    "print(\"Top 1 acc: \",f\"{acc(gold,predictc):.2f}\")\n",
    "print(\"Top 3 acc: \",f\"{acc(gold,predictc3):.2f}\")\n",
    "print(\"Top 5 acc: \",f\"{acc(gold,predictc5):.2f}\")"
   ]
  },
  {
   "cell_type": "code",
   "execution_count": 17,
   "id": "99409dab-1e63-4889-b15f-ad1d08b52d51",
   "metadata": {},
   "outputs": [
    {
     "data": {
      "text/plain": [
       "['Oman']"
      ]
     },
     "execution_count": 17,
     "metadata": {},
     "output_type": "execute_result"
    }
   ],
   "source": [
    "cp"
   ]
  },
  {
   "cell_type": "markdown",
   "id": "65eeb6a7-ed36-4604-ab5f-d712e32d5aa5",
   "metadata": {
    "jp-MarkdownHeadingCollapsed": true,
    "tags": []
   },
   "source": [
    "# Other"
   ]
  },
  {
   "cell_type": "code",
   "execution_count": null,
   "id": "d8d849a6-6099-4d4c-adbf-aa00fa423e2e",
   "metadata": {},
   "outputs": [],
   "source": [
    "fig, ax = plt.subplots(figsize=(8, 8))\n",
    "\n",
    "CMD.from_predictions(gold,predictcountry,xticks_rotation=\"vertical\", ax=ax)\n",
    "# plt.savefig(\"topbot10_count_CM_wbelg.png\")"
   ]
  },
  {
   "cell_type": "code",
   "execution_count": 31,
   "id": "e7322460-6201-4b59-b936-1a8102f94b87",
   "metadata": {},
   "outputs": [],
   "source": [
    "country_set = set(gold)"
   ]
  },
  {
   "cell_type": "code",
   "execution_count": 17,
   "id": "c501dc59-5070-43ff-95f6-fb2ac7aa0205",
   "metadata": {},
   "outputs": [
    {
     "data": {
      "text/plain": [
       "0.38927398036410055"
      ]
     },
     "execution_count": 17,
     "metadata": {},
     "output_type": "execute_result"
    }
   ],
   "source": [
    "MC(gold,predictcountry)"
   ]
  },
  {
   "cell_type": "code",
   "execution_count": null,
   "id": "8260bc77-08c8-4384-ba31-bfc131a68107",
   "metadata": {},
   "outputs": [],
   "source": [
    "p_country_rep = c_rep(gold,predictcountry,output_dict=True);\n",
    "p_rep = c_rep(gold,predict,output_dict=True);"
   ]
  },
  {
   "cell_type": "code",
   "execution_count": 28,
   "id": "826e29e3-3c90-43bd-8440-1a744da7633a",
   "metadata": {},
   "outputs": [
    {
     "data": {
      "text/plain": [
       "{'precision': 0.0, 'recall': 0.0, 'f1-score': 0.0, 'support': 0}"
      ]
     },
     "execution_count": 28,
     "metadata": {},
     "output_type": "execute_result"
    }
   ],
   "source": [
    "p_country_rep[\"Albania\"]"
   ]
  },
  {
   "cell_type": "code",
   "execution_count": 33,
   "id": "8d3ae948-7405-4af5-b6b4-5476843c47be",
   "metadata": {},
   "outputs": [
    {
     "name": "stdout",
     "output_type": "stream",
     "text": [
      "Serbia c_f_r: 0.15602836879432624 c: 0.1476510067114094\n",
      "Bosnia and Herzegovina c_f_r: 0.41025641025641024 c: 0.4017857142857143\n",
      "Saudi Arabia c_f_r: 0.21052631578947367 c: 0.20338983050847456\n",
      "Panama c_f_r: 0.39378238341968913 c: 0.36595744680851067\n",
      "Mongolia c_f_r: 0.26573426573426573 c: 0.2585034013605442\n",
      "Colombia c_f_r: 0.48587570621468923 c: 0.48314606741573035\n",
      "South Korea c_f_r: 0.8450704225352113 c: 0.8425925925925926\n",
      "Ethiopia c_f_r: 0.8223350253807107 c: 0.8148148148148148\n",
      "Iraq c_f_r: 0.8342245989304813 c: 0.8246445497630331\n",
      "Slovenia c_f_r: 0.4023668639053255 c: 0.23999999999999996\n",
      "Côte d'Ivoire c_f_r: 0.09836065573770492 c: 0.0\n",
      "Cuba c_f_r: 0.7613636363636364 c: 0.7500000000000001\n",
      "Portugal c_f_r: 0.6532663316582915 c: 0.6305418719211823\n",
      "Greece c_f_r: 0.41025641025641024 c: 0.4078947368421053\n",
      "Poland c_f_r: 0.38341968911917096 c: 0.32679738562091504\n"
     ]
    }
   ],
   "source": [
    "for c in country_set:\n",
    "    if p_country_rep[c][\"f1-score\"]>p_rep[c][\"f1-score\"]:\n",
    "        print(c, f\"c_f_r: {p_country_rep[c]['f1-score']}\", f\"c: {p_rep[c]['f1-score']}\")"
   ]
  },
  {
   "cell_type": "code",
   "execution_count": null,
   "id": "3a4c10ce-d485-4d54-a021-74c1534ada0f",
   "metadata": {},
   "outputs": [],
   "source": []
  }
 ],
 "metadata": {
  "kernelspec": {
   "display_name": "Python 3 (ipykernel)",
   "language": "python",
   "name": "python3"
  },
  "language_info": {
   "codemirror_mode": {
    "name": "ipython",
    "version": 3
   },
   "file_extension": ".py",
   "mimetype": "text/x-python",
   "name": "python",
   "nbconvert_exporter": "python",
   "pygments_lexer": "ipython3",
   "version": "3.8.13"
  }
 },
 "nbformat": 4,
 "nbformat_minor": 5
}
