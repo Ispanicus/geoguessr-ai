{
 "cells": [
  {
   "cell_type": "code",
   "execution_count": 1,
   "id": "db3cdae4-44f3-4d7b-97ab-54e01391e433",
   "metadata": {},
   "outputs": [],
   "source": [
    "import pickle\n",
    "with open(\"../../country_data_final.pickle\", 'rb') as handle:\n",
    "    data = pickle.load(handle)"
   ]
  },
  {
   "cell_type": "code",
   "execution_count": 6,
   "id": "d8ca45bd-535b-4310-ae84-6ec42ade6766",
   "metadata": {},
   "outputs": [],
   "source": [
    "country_set = set()\n",
    "for key in data.keys():\n",
    "    if data[key] == \"Error\":\n",
    "        continue\n",
    "    country_set.add(data[key][\"country\"])\n"
   ]
  },
  {
   "cell_type": "code",
   "execution_count": 7,
   "id": "37b61b24-113b-4bae-9161-9402aa250f32",
   "metadata": {},
   "outputs": [
    {
     "data": {
      "text/plain": [
       "168"
      ]
     },
     "execution_count": 7,
     "metadata": {},
     "output_type": "execute_result"
    }
   ],
   "source": [
    "len(country_set)"
   ]
  },
  {
   "cell_type": "code",
   "execution_count": 9,
   "id": "02201530-1dfc-487e-892c-d6954d52ec1d",
   "metadata": {},
   "outputs": [],
   "source": [
    "testkey = data[list(data.keys())[0]]"
   ]
  },
  {
   "cell_type": "code",
   "execution_count": 16,
   "id": "6fffff8a-a7a4-4cb1-93ea-7a5a6d35fedc",
   "metadata": {},
   "outputs": [],
   "source": [
    "countries = list(country_set)\n",
    "countries.sort()"
   ]
  },
  {
   "cell_type": "code",
   "execution_count": 83,
   "id": "b083f885-5218-4dd9-aff4-352fb96d3a32",
   "metadata": {},
   "outputs": [],
   "source": [
    "#If region splitting first doesn't work then try adding each region to the prompt instead"
   ]
  },
  {
   "cell_type": "code",
   "execution_count": 190,
   "id": "401c06ad-8690-47ea-bf99-5297c1bdaca8",
   "metadata": {},
   "outputs": [
    {
     "ename": "IndexError",
     "evalue": "list index out of range",
     "output_type": "error",
     "traceback": [
      "\u001b[1;31m---------------------------------------------------------------------------\u001b[0m",
      "\u001b[1;31mIndexError\u001b[0m                                Traceback (most recent call last)",
      "\u001b[1;32m~\\AppData\\Local\\Temp/ipykernel_8608/3110845473.py\u001b[0m in \u001b[0;36m<module>\u001b[1;34m\u001b[0m\n\u001b[1;32m----> 1\u001b[1;33m countries[168\n\u001b[0m\u001b[0;32m      2\u001b[0m          ]\n",
      "\u001b[1;31mIndexError\u001b[0m: list index out of range"
     ]
    }
   ],
   "source": [
    "countries[168\n",
    "         ]"
   ]
  },
  {
   "cell_type": "code",
   "execution_count": 191,
   "id": "5eded405-b72f-48cd-9f49-59586668241a",
   "metadata": {},
   "outputs": [],
   "source": [
    "#Note gave up on some regions which can be combined.\n",
    "# Put caribbean in latin and central\n",
    "# Put americas sans north into latin\n",
    "# Put all africas sans north into sub-saharan\n",
    "# Consider adding baltic and balkan\n",
    "# Missing melanesia\n",
    "other = ['Greenland']\n",
    "europe = []\n",
    "western_europe = ['Andorra','Austria','Belgium','Denmark','Finland','France',\n",
    "                  'Ireland', 'Italy','Jersey','Liechtenstein',\n",
    "                  'Luxembourg','Netherlands','Portugal','Spain','Norway','Sweden','Switzerland',\n",
    "                  'United Kingdom','Vatican City']\n",
    "eastern_europe = ['Albania','Belarus','Bosnia and Herzegovina','Bulgaria','Croatia','Czechia','Georgia',\n",
    "                  'Greece','Hungary','Kosovo','Moldova','Montenegro','North Macedonia',\n",
    "                  'Poland','Romania','Russia','Serbia','Slovakia','Slovenia','Ukraine']\n",
    "southern_europe = ['Albania','Andorra','Bosnia and Herzegovina','Croatia','Cyprus',\n",
    "                   'Greece','Italy','Kosovo','Malta','Monaco','Montenegro','North Macedonia',\n",
    "                   'Portugal','Serbia','Slovenia','Spain','Vatican City']\n",
    "northern_europe = ['Denmark','Estonia','Finland','Iceland','Latvia','Lithuania','Norway','Sweden']\n",
    "\n",
    "middle_east = ['Algeria','Armenia','Azerbaijan','Bahrain','Cyprus','Egypt','Georgia',\n",
    "               'Iran','Iraq','Israel','Jordan','Kuwait','Lebanon','Morocco','Oman','Palestinian Territory',\n",
    "               'Qatar','Saudi Arabia', 'Turkey','United Arab Emirates']\n",
    "north_africa = ['Algeria','Egypt','Morocco','Sudan']\n",
    "west_africa = ['Benin','Cape Verde',\"Côte d'Ivoire\",'Ghana','Guinea-Bissau','Liberia','Niger','Nigeria',\n",
    "               'Senegal','São Tomé and Príncipe','The Gambia','Togo']\n",
    "east_africa = ['Comoros','Djibouti','Ethiopia','Kenya','Madagascar','Mozambique','Rwanda',\n",
    "               'Uganda']\n",
    "central_africa = ['Angola','Cameroon','Congo-Brazzaville','Democratic Republic of the Congo','Zambia']\n",
    "southern_africa = ['Angola','Botswana','Comoros','Eswatini','Lesotho','Madagascar',\n",
    "                   'Malawi','Mozambique','Namibia','South Africa',\n",
    "                   'Tanzania','Zimbabwe']\n",
    "sub_saharan_africa = ['Angola','Benin','Botswana','Cameroon','Cape Verde','Comoros','Congo-Brazzaville',\"Côte d'Ivoire\",'Democratic Republic of the Congo','Djibouti','Eswatini','Ethiopia',\n",
    "                      'Ghana']\n",
    "africa = []\n",
    "central_asia = ['Kazakhstan','Kyrgyzstan','Mongolia','Russia',\n",
    "                'Tajikistan','Turkmenistan','Uzbekistan']\n",
    "east_asia = ['China','Japan','South Korea','Taiwan']\n",
    "south_asia = ['Bangladesh','Bhutan','India','Myanmar','Nepal','Pakistan','Sri Lanka']\n",
    "far_east_asia = east_asia.copy()\n",
    "south_east_asia = ['Brunei','Cambodia','East Timor','Indonesia','Laos','Malaysia','Philippines','Singapore',\n",
    "                   'Thailand','Vietnam']\n",
    "western_asia = ['Armenia','Azerbaijan','Bahrain','Georgia',\n",
    "                'Iran','Iraq','Israel','Jordan','Kuwait','Lebanon','Oman','Palestinian Territory',\n",
    "                'Qatar','Saudi Arabia','Turkey','United Arab Emirates']\n",
    "\n",
    "oceania = ['Australia','East Timor','Fiji','Kiribati','New Zealand',\n",
    "           'Papua New Guinea','Solomon Islands','Tonga','Vanuatu']\n",
    "micronesia = ['Kiribati']\n",
    "polynesia = ['Fiji','Kiribati','Tonga']\n",
    "\n",
    "north_america = ['Belize','Canada','Costa Rica','Cuba','Dominica','Dominican Republic','El Salvador','United States']\n",
    "south_america = ['Antigua and Barbuda','Argentina','Barbados','Bolivia','Brazil','Chile','Colombia','Ecuador','Paraguay','Peru',\n",
    "                 'Suriname','Uruguay']\n",
    "central_america = ['Antigua and Barbuda','Barbados','Belize','Costa Rica','Dominica','Dominican Republic','El Salvador','Guatemala',\n",
    "                   'Guyana','Honduras','Mexico','Nicaragua','Panama']\n",
    "caribbean =['Antigua and Barbuda','Barbados','Cuba','Dominica','Dominican Republic','Grenada','Haiti','Saint Kitts and Nevis','Saint Lucia','Saint Vincent and the Grenadines',\n",
    "            'The Bahamas','Trinidad and Tobago']\n",
    "latin_america = ['Antigua and Barbuda','Argentina','Barbados','Belize','Bolivia','Brazil','Chile','Colombia','Costa Rica','Cuba','Dominica','Dominican Republic','Ecuador','El Salvador']\n"
   ]
  },
  {
   "cell_type": "code",
   "execution_count": null,
   "id": "7c908704-f5e6-4775-8fb8-3ce332f2ae41",
   "metadata": {},
   "outputs": [],
   "source": []
  }
 ],
 "metadata": {
  "kernelspec": {
   "display_name": "Python 3 (ipykernel)",
   "language": "python",
   "name": "python3"
  },
  "language_info": {
   "codemirror_mode": {
    "name": "ipython",
    "version": 3
   },
   "file_extension": ".py",
   "mimetype": "text/x-python",
   "name": "python",
   "nbconvert_exporter": "python",
   "pygments_lexer": "ipython3",
   "version": "3.8.11"
  }
 },
 "nbformat": 4,
 "nbformat_minor": 5
}
