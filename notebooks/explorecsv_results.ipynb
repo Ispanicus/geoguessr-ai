{
 "cells": [
  {
   "cell_type": "code",
   "execution_count": 1,
   "id": "4637a3f9-ec6c-4500-b726-c4a967cbbe2e",
   "metadata": {},
   "outputs": [],
   "source": [
    "import csv"
   ]
  },
  {
   "cell_type": "code",
   "execution_count": 7,
   "id": "85f9d609-a45b-4f9d-a806-604ba67fb179",
   "metadata": {},
   "outputs": [],
   "source": [
    "labelspair = []\n",
    "counter = 0\n",
    "with open('../resultcsv/country100_results.csv', encoding=\"utf-8\",newline=\"\") as csvfile:\n",
    "    reader = csv.reader(csvfile, delimiter=',')\n",
    "    for row in reader:\n",
    "        if row[0]==\"Gold\":\n",
    "            continue\n",
    "        labelspair.append(row)\n"
   ]
  },
  {
   "cell_type": "code",
   "execution_count": 16,
   "id": "d329c471-4e09-4e75-8852-898f35ae86fb",
   "metadata": {},
   "outputs": [],
   "source": [
    "gold = [x[0] for x in labelspair]\n",
    "predict = [x[1][2:-2] for x in labelspair]"
   ]
  },
  {
   "cell_type": "code",
   "execution_count": null,
   "id": "dbf260df-6ff3-47e1-9389-fd91830d3ac0",
   "metadata": {},
   "outputs": [],
   "source": []
  }
 ],
 "metadata": {
  "kernelspec": {
   "display_name": "Python 3 (ipykernel)",
   "language": "python",
   "name": "python3"
  },
  "language_info": {
   "codemirror_mode": {
    "name": "ipython",
    "version": 3
   },
   "file_extension": ".py",
   "mimetype": "text/x-python",
   "name": "python",
   "nbconvert_exporter": "python",
   "pygments_lexer": "ipython3",
   "version": "3.8.11"
  }
 },
 "nbformat": 4,
 "nbformat_minor": 5
}
