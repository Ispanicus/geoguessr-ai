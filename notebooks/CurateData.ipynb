{
 "cells": [
  {
   "cell_type": "markdown",
   "id": "20f0861f-5da0-4068-946a-9c76f6e32c78",
   "metadata": {},
   "source": [
    "This notebook is not relevant but probably has some useful code snippets"
   ]
  },
  {
   "cell_type": "code",
   "execution_count": 7,
   "id": "ccb95a2e-0bb7-4a32-af11-2c0df80d1d6d",
   "metadata": {},
   "outputs": [],
   "source": [
    "import os\n",
    "import pickle\n",
    "from tqdm import tqdm\n",
    "from collections import Counter\n",
    "# import countries as co\n",
    "import json\n",
    "# import geopy\n",
    "# from geopy.geocoders import GeoNames\n",
    "import random\n"
   ]
  },
  {
   "cell_type": "code",
   "execution_count": 65,
   "id": "f97d9727-4079-4b82-8dc2-bb74eb3ffc7e",
   "metadata": {},
   "outputs": [],
   "source": [
    "# geolocator = Nominatim(user_agent=\"geoapiExercises\")\n",
    "# # Latitude = \"25.594095\"\n",
    "# # Longitude = \"85.137566\"\n",
    "# location = geolocator.reverse((29.599042, 34.864505), language='en')\n",
    "# address = location.raw['address']\n",
    "# country = address.get('country', '')"
   ]
  },
  {
   "cell_type": "code",
   "execution_count": null,
   "id": "483b1096-d7c3-49bf-a0c8-9b31b29ab4ba",
   "metadata": {},
   "outputs": [],
   "source": [
    "# To be used later\n",
    "# train = \"train\"\n",
    "# ignore = \"uncompressed\"\n",
    "# dir_ = \"F:\\\\Mapillary\"\n",
    "# for folder in os.listdir(dir_):\n",
    "#     if folder ==ignore:\n",
    "#         continue\n",
    "#     for file in os.listdir(dir_+\"\\\\\"+folder+\"\\\\\"+train):\n",
    "#         if file[-4:] == \".jpg\":\n",
    "#             file = file[:22]\n",
    "#         break\n",
    "            \n",
    "# #     print(file)"
   ]
  },
  {
   "cell_type": "code",
   "execution_count": 2,
   "id": "96a69f30-7107-4d47-a9e2-66b53b953bc4",
   "metadata": {},
   "outputs": [],
   "source": [
    "with open(\"country_guess_final.pickle\", 'rb') as handle:\n",
    "    country_guess = pickle.load(handle)     \n",
    "    \n",
    "with open(\"metadata_w_google.pickle\", 'rb') as handle:\n",
    "    google_metadata = pickle.load(handle) \n",
    "    \n",
    "with open(\"../mapillary/train.json\") as file:\n",
    "    metadata = json.load(file)"
   ]
  },
  {
   "cell_type": "code",
   "execution_count": 3,
   "id": "bd730fa0-637a-4337-afe6-f84115dca73a",
   "metadata": {},
   "outputs": [
    {
     "name": "stderr",
     "output_type": "stream",
     "text": [
      "100%|████████████████████████████████████████████████████████████████████████| 35341/35341 [00:00<00:00, 161107.58it/s]\n",
      "100%|█████████████████████████████████████████████████████████████████████| 706755/706755 [00:00<00:00, 2624954.46it/s]\n"
     ]
    }
   ],
   "source": [
    "google_country_filelist_dict = {}\n",
    "for key in tqdm(google_metadata.keys()):\n",
    "    for i in range(len(google_metadata[key][\"results\"])):\n",
    "        if \"country\" in google_metadata[key][\"results\"][i][\"types\"]:\n",
    "            country = google_metadata[key][\"results\"][i][\"address_components\"][0][\"long_name\"]\n",
    "            google_country_filelist_dict.setdefault(country,[])\n",
    "            google_country_filelist_dict[country].append(key)\n",
    "nongoogle_country_filelist_dict = {}\n",
    "for key in tqdm(country_guess.keys()):\n",
    "    country = country_guess[key]\n",
    "    nongoogle_country_filelist_dict.setdefault(country,[])\n",
    "    nongoogle_country_filelist_dict[country].append(key)\n",
    "            "
   ]
  },
  {
   "cell_type": "code",
   "execution_count": null,
   "id": "5789b37f-cb79-4148-936d-792bb8f3ec27",
   "metadata": {},
   "outputs": [],
   "source": [
    "size = 300\n",
    "data - {}\n",
    "for country in nongoogle_country_filelist_dict.keys():\n",
    "    data[country] = random.choices(nongoogle_country_filelist_dict[country],k=size)"
   ]
  },
  {
   "cell_type": "code",
   "execution_count": 13,
   "id": "c8018cfd-8eec-4b07-b037-0c9608f8227e",
   "metadata": {},
   "outputs": [
    {
     "data": {
      "text/plain": [
       "5898"
      ]
     },
     "execution_count": 13,
     "metadata": {},
     "output_type": "execute_result"
    }
   ],
   "source": [
    "len(nongoogle_country_filelist_dict[\"Andorra\"])"
   ]
  },
  {
   "cell_type": "code",
   "execution_count": null,
   "id": "4fd17746-f65e-4917-bfcb-50cecfd38681",
   "metadata": {},
   "outputs": [],
   "source": [
    "countryguess(35000/750000) = google"
   ]
  },
  {
   "cell_type": "code",
   "execution_count": 29,
   "id": "1aa28aed-380b-48dc-a5c1-78c93e4329ae",
   "metadata": {},
   "outputs": [
    {
     "name": "stderr",
     "output_type": "stream",
     "text": [
      "100%|████████████████████████████████████████████████████████████████████████| 35341/35341 [00:00<00:00, 156928.00it/s]\n"
     ]
    }
   ],
   "source": [
    "google_counts = {}\n",
    "for key in tqdm(google_metadata.keys()):\n",
    "    for i in range(len(google_metadata[key][\"results\"])):\n",
    "        if \"country\" in google_metadata[key][\"results\"][i][\"types\"]:\n",
    "            country = google_metadata[key][\"results\"][i][\"address_components\"][0][\"long_name\"]\n",
    "            google_counts.setdefault(country,0)\n",
    "            google_counts[country] += 1\n",
    "\n",
    "google_counts_dict = google_counts.copy()\n",
    "google_counts = [(key,value) for key,value in google_counts.items()]\n",
    "google_counts.sort(key= lambda x: x[1])\n",
    "            \n",
    "nongoogle_counts = Counter([value for key,value in country_guess.items()])\n",
    "nongoogle_counts = [(key,value) for key,value in nongoogle_counts.items()]\n",
    "nongoogle_counts.sort(key= lambda x: x[1])"
   ]
  },
  {
   "cell_type": "code",
   "execution_count": 33,
   "id": "464d7b9a-9a9d-403b-b431-4921eb622dd0",
   "metadata": {},
   "outputs": [],
   "source": [
    "ratios = [(key,(value*(35/750)/google_counts_dict[key])) for key, value in nongoogle_counts]"
   ]
  },
  {
   "cell_type": "code",
   "execution_count": 35,
   "id": "608b052b-9afa-4cdc-9d0d-6e1956c58629",
   "metadata": {},
   "outputs": [],
   "source": [
    "ratios.sort(key= lambda x:x[1])"
   ]
  },
  {
   "cell_type": "code",
   "execution_count": null,
   "id": "f2715a2e-9800-49cb-8bb6-bff6ab1a5bfc",
   "metadata": {},
   "outputs": [],
   "source": [
    "ratios"
   ]
  },
  {
   "cell_type": "code",
   "execution_count": null,
   "id": "dcd62311-8de6-4d21-b45c-4853f76cda3f",
   "metadata": {},
   "outputs": [],
   "source": []
  }
 ],
 "metadata": {
  "kernelspec": {
   "display_name": "Python 3 (ipykernel)",
   "language": "python",
   "name": "python3"
  },
  "language_info": {
   "codemirror_mode": {
    "name": "ipython",
    "version": 3
   },
   "file_extension": ".py",
   "mimetype": "text/x-python",
   "name": "python",
   "nbconvert_exporter": "python",
   "pygments_lexer": "ipython3",
   "version": "3.8.11"
  }
 },
 "nbformat": 4,
 "nbformat_minor": 5
}
